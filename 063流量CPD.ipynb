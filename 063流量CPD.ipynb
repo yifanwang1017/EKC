{
 "cells": [
  {
   "cell_type": "code",
   "execution_count": 1,
   "id": "49425a88",
   "metadata": {
    "ExecuteTime": {
     "end_time": "2024-04-07T01:24:52.907345Z",
     "start_time": "2024-04-07T01:24:50.188391Z"
    }
   },
   "outputs": [],
   "source": [
    "import pandas as pd\n",
    "import numpy as np"
   ]
  },
  {
   "cell_type": "code",
   "execution_count": 2,
   "id": "0dc77b38",
   "metadata": {
    "ExecuteTime": {
     "end_time": "2024-04-07T01:24:57.836921Z",
     "start_time": "2024-04-07T01:24:52.909200Z"
    }
   },
   "outputs": [
    {
     "data": {
      "text/html": [
       "<div>\n",
       "<style scoped>\n",
       "    .dataframe tbody tr th:only-of-type {\n",
       "        vertical-align: middle;\n",
       "    }\n",
       "\n",
       "    .dataframe tbody tr th {\n",
       "        vertical-align: top;\n",
       "    }\n",
       "\n",
       "    .dataframe thead th {\n",
       "        text-align: right;\n",
       "    }\n",
       "</style>\n",
       "<table border=\"1\" class=\"dataframe\">\n",
       "  <thead>\n",
       "    <tr style=\"text-align: right;\">\n",
       "      <th></th>\n",
       "      <th>crash</th>\n",
       "      <th>time of week</th>\n",
       "      <th>weather</th>\n",
       "      <th>volume</th>\n",
       "      <th>temperature</th>\n",
       "      <th>daytime</th>\n",
       "      <th>season</th>\n",
       "    </tr>\n",
       "  </thead>\n",
       "  <tbody>\n",
       "    <tr>\n",
       "      <th>0</th>\n",
       "      <td>1</td>\n",
       "      <td>1</td>\n",
       "      <td>cloudy</td>\n",
       "      <td>0</td>\n",
       "      <td>0</td>\n",
       "      <td>afternoon</td>\n",
       "      <td>winter</td>\n",
       "    </tr>\n",
       "    <tr>\n",
       "      <th>1</th>\n",
       "      <td>1</td>\n",
       "      <td>1</td>\n",
       "      <td>cloudy</td>\n",
       "      <td>0</td>\n",
       "      <td>0</td>\n",
       "      <td>afternoon</td>\n",
       "      <td>winter</td>\n",
       "    </tr>\n",
       "  </tbody>\n",
       "</table>\n",
       "</div>"
      ],
      "text/plain": [
       "   crash  time of week weather  volume  temperature    daytime  season\n",
       "0      1             1  cloudy       0            0  afternoon  winter\n",
       "1      1             1  cloudy       0            0  afternoon  winter"
      ]
     },
     "execution_count": 2,
     "metadata": {},
     "output_type": "execute_result"
    }
   ],
   "source": [
    "data = pd.read_excel('模型数据.xlsx')\n",
    "data.head(2)"
   ]
  },
  {
   "cell_type": "code",
   "execution_count": 3,
   "id": "3de2162f",
   "metadata": {
    "ExecuteTime": {
     "end_time": "2024-04-07T01:25:08.000984Z",
     "start_time": "2024-04-07T01:24:57.837919Z"
    }
   },
   "outputs": [],
   "source": [
    "from pgmpy.models import BayesianNetwork\n",
    "model = BayesianNetwork([('time of week', 'temperature'),('time of week','volume'),\n",
    "                         ('daytime','temperature'),('daytime','volume'),\n",
    "                         ('season','temperature'),('season','volume'),('season','weather'),\n",
    "                         ('weather','temperature'),('weather','volume'),('weather','crash'),\n",
    "                         ('temperature','crash'),\n",
    "                         ('volume','crash')])"
   ]
  },
  {
   "cell_type": "code",
   "execution_count": 4,
   "id": "46100b74",
   "metadata": {
    "ExecuteTime": {
     "end_time": "2024-04-07T01:25:08.421444Z",
     "start_time": "2024-04-07T01:25:08.001541Z"
    }
   },
   "outputs": [],
   "source": [
    "from pgmpy.estimators import BayesianEstimator, MaximumLikelihoodEstimator\n",
    "estimator = MaximumLikelihoodEstimator(model, data)"
   ]
  },
  {
   "cell_type": "code",
   "execution_count": 5,
   "id": "72994882",
   "metadata": {
    "ExecuteTime": {
     "end_time": "2024-04-07T01:25:08.530823Z",
     "start_time": "2024-04-07T01:25:08.423399Z"
    }
   },
   "outputs": [
    {
     "name": "stdout",
     "output_type": "stream",
     "text": [
      "['volume', 'daytime', 'season', 'time of week', 'weather']\n",
      "[3 6 4 3 5]\n"
     ]
    },
    {
     "data": {
      "text/html": [
       "<div>\n",
       "<style scoped>\n",
       "    .dataframe tbody tr th:only-of-type {\n",
       "        vertical-align: middle;\n",
       "    }\n",
       "\n",
       "    .dataframe tbody tr th {\n",
       "        vertical-align: top;\n",
       "    }\n",
       "\n",
       "    .dataframe thead th {\n",
       "        text-align: right;\n",
       "    }\n",
       "</style>\n",
       "<table border=\"1\" class=\"dataframe\">\n",
       "  <thead>\n",
       "    <tr style=\"text-align: right;\">\n",
       "      <th></th>\n",
       "      <th>0</th>\n",
       "      <th>1</th>\n",
       "      <th>2</th>\n",
       "      <th>3</th>\n",
       "      <th>4</th>\n",
       "      <th>5</th>\n",
       "      <th>6</th>\n",
       "      <th>7</th>\n",
       "      <th>8</th>\n",
       "      <th>9</th>\n",
       "      <th>...</th>\n",
       "      <th>350</th>\n",
       "      <th>351</th>\n",
       "      <th>352</th>\n",
       "      <th>353</th>\n",
       "      <th>354</th>\n",
       "      <th>355</th>\n",
       "      <th>356</th>\n",
       "      <th>357</th>\n",
       "      <th>358</th>\n",
       "      <th>359</th>\n",
       "    </tr>\n",
       "  </thead>\n",
       "  <tbody>\n",
       "    <tr>\n",
       "      <th>0</th>\n",
       "      <td>0.486328</td>\n",
       "      <td>0.520000</td>\n",
       "      <td>0.566524</td>\n",
       "      <td>0.333333</td>\n",
       "      <td>0.61250</td>\n",
       "      <td>0.467337</td>\n",
       "      <td>0.491071</td>\n",
       "      <td>0.3125</td>\n",
       "      <td>0.333333</td>\n",
       "      <td>0.333333</td>\n",
       "      <td>...</td>\n",
       "      <td>0.3625</td>\n",
       "      <td>0.666667</td>\n",
       "      <td>0.5000</td>\n",
       "      <td>0.333333</td>\n",
       "      <td>0.734375</td>\n",
       "      <td>0.317829</td>\n",
       "      <td>0.250</td>\n",
       "      <td>0.333333</td>\n",
       "      <td>0.333333</td>\n",
       "      <td>0.409091</td>\n",
       "    </tr>\n",
       "    <tr>\n",
       "      <th>1</th>\n",
       "      <td>0.277344</td>\n",
       "      <td>0.289231</td>\n",
       "      <td>0.317597</td>\n",
       "      <td>0.333333</td>\n",
       "      <td>0.35625</td>\n",
       "      <td>0.291457</td>\n",
       "      <td>0.312500</td>\n",
       "      <td>0.4375</td>\n",
       "      <td>0.333333</td>\n",
       "      <td>0.333333</td>\n",
       "      <td>...</td>\n",
       "      <td>0.3875</td>\n",
       "      <td>0.166667</td>\n",
       "      <td>0.4375</td>\n",
       "      <td>0.333333</td>\n",
       "      <td>0.187500</td>\n",
       "      <td>0.449612</td>\n",
       "      <td>0.475</td>\n",
       "      <td>0.333333</td>\n",
       "      <td>0.333333</td>\n",
       "      <td>0.409091</td>\n",
       "    </tr>\n",
       "    <tr>\n",
       "      <th>2</th>\n",
       "      <td>0.236328</td>\n",
       "      <td>0.190769</td>\n",
       "      <td>0.115880</td>\n",
       "      <td>0.333333</td>\n",
       "      <td>0.03125</td>\n",
       "      <td>0.241206</td>\n",
       "      <td>0.196429</td>\n",
       "      <td>0.2500</td>\n",
       "      <td>0.333333</td>\n",
       "      <td>0.333333</td>\n",
       "      <td>...</td>\n",
       "      <td>0.2500</td>\n",
       "      <td>0.166667</td>\n",
       "      <td>0.0625</td>\n",
       "      <td>0.333333</td>\n",
       "      <td>0.078125</td>\n",
       "      <td>0.232558</td>\n",
       "      <td>0.275</td>\n",
       "      <td>0.333333</td>\n",
       "      <td>0.333333</td>\n",
       "      <td>0.181818</td>\n",
       "    </tr>\n",
       "  </tbody>\n",
       "</table>\n",
       "<p>3 rows × 360 columns</p>\n",
       "</div>"
      ],
      "text/plain": [
       "        0         1         2         3        4         5         6    \\\n",
       "0  0.486328  0.520000  0.566524  0.333333  0.61250  0.467337  0.491071   \n",
       "1  0.277344  0.289231  0.317597  0.333333  0.35625  0.291457  0.312500   \n",
       "2  0.236328  0.190769  0.115880  0.333333  0.03125  0.241206  0.196429   \n",
       "\n",
       "      7         8         9    ...     350       351     352       353  \\\n",
       "0  0.3125  0.333333  0.333333  ...  0.3625  0.666667  0.5000  0.333333   \n",
       "1  0.4375  0.333333  0.333333  ...  0.3875  0.166667  0.4375  0.333333   \n",
       "2  0.2500  0.333333  0.333333  ...  0.2500  0.166667  0.0625  0.333333   \n",
       "\n",
       "        354       355    356       357       358       359  \n",
       "0  0.734375  0.317829  0.250  0.333333  0.333333  0.409091  \n",
       "1  0.187500  0.449612  0.475  0.333333  0.333333  0.409091  \n",
       "2  0.078125  0.232558  0.275  0.333333  0.333333  0.181818  \n",
       "\n",
       "[3 rows x 360 columns]"
      ]
     },
     "execution_count": 5,
     "metadata": {},
     "output_type": "execute_result"
    }
   ],
   "source": [
    "cpd = estimator.estimate_cpd('volume')\n",
    "print(cpd.variables)\n",
    "print(cpd.cardinality)\n",
    "pd.DataFrame(cpd.get_values())"
   ]
  },
  {
   "cell_type": "code",
   "execution_count": 6,
   "id": "0488cc52",
   "metadata": {
    "ExecuteTime": {
     "end_time": "2024-04-07T01:25:08.546484Z",
     "start_time": "2024-04-07T01:25:08.531820Z"
    }
   },
   "outputs": [],
   "source": [
    "cpd_matric = pd.DataFrame(cpd.get_values())\n",
    "column_num = cpd_matric.shape[1]\n",
    "CPD = pd.DataFrame()"
   ]
  },
  {
   "cell_type": "markdown",
   "id": "28b4492a",
   "metadata": {},
   "source": [
    "# 中流量"
   ]
  },
  {
   "cell_type": "code",
   "execution_count": 7,
   "id": "13127def",
   "metadata": {
    "ExecuteTime": {
     "end_time": "2024-04-07T01:25:08.607491Z",
     "start_time": "2024-04-07T01:25:08.547526Z"
    }
   },
   "outputs": [],
   "source": [
    "list0 = np.array([])\n",
    "list1 = np.array([])\n",
    "list2 = np.array([])\n",
    "list3 = np.array([])\n",
    "list4 = np.array([])\n",
    "list5 = np.array([])\n",
    "\n",
    "large_unit = 0\n",
    "unit = int(column_num/cpd.cardinality[1])\n",
    "for i in range(cpd.cardinality[1]):\n",
    "    list0 = np.append(list0,np.linspace(int(i*large_unit + 0*unit),int(i*large_unit+ 1*unit)-1,int(unit))).astype(int)\n",
    "    list1 = np.append(list1,np.linspace(int(i*large_unit + 1*unit),int(i*large_unit+ 2*unit)-1,int(unit))).astype(int)\n",
    "    list2 = np.append(list2,np.linspace(int(i*large_unit + 2*unit),int(i*large_unit+ 3*unit)-1,int(unit))).astype(int)\n",
    "    list3 = np.append(list3,np.linspace(int(i*large_unit + 3*unit),int(i*large_unit+ 4*unit)-1,int(unit))).astype(int)\n",
    "    list4 = np.append(list4,np.linspace(int(i*large_unit + 4*unit),int(i*large_unit+ 5*unit)-1,int(unit))).astype(int)\n",
    "    list5 = np.append(list5,np.linspace(int(i*large_unit + 5*unit),int(i*large_unit+ 6*unit)-1,int(unit))).astype(int)\n",
    "\n",
    "t0 = np.array([])\n",
    "for i in list0:\n",
    "    t0 = np.append(t0,cpd_matric[i][1])\n",
    "\n",
    "t1 = np.array([])\n",
    "for i in list1:\n",
    "    t1 = np.append(t1,cpd_matric[i][1])\n",
    "\n",
    "t2 = np.array([])\n",
    "for i in list2:\n",
    "    t2 = np.append(t2,cpd_matric[i][1])\n",
    "\n",
    "t3 = np.array([])\n",
    "for i in list3:\n",
    "    t3 = np.append(t3,cpd_matric[i][1])\n",
    "\n",
    "t4 = np.array([])\n",
    "for i in list4:\n",
    "    t4 = np.append(t4,cpd_matric[i][1])\n",
    "\n",
    "t5 = np.array([])\n",
    "for i in list5:\n",
    "    t5 = np.append(t5,cpd_matric[i][1])\n",
    "\n",
    "CPD['volume_1_daytime_0'] = pd.DataFrame(t0)\n",
    "CPD['volume_1_daytime_1'] = pd.DataFrame(t1)\n",
    "CPD['volume_1_daytime_2'] = pd.DataFrame(t2)\n",
    "CPD['volume_1_daytime_3'] = pd.DataFrame(t3)\n",
    "CPD['volume_1_daytime_4'] = pd.DataFrame(t4)\n",
    "CPD['volume_1_daytime_5'] = pd.DataFrame(t5)"
   ]
  },
  {
   "cell_type": "code",
   "execution_count": 8,
   "id": "e5ada0cc",
   "metadata": {
    "ExecuteTime": {
     "end_time": "2024-04-07T01:25:08.639462Z",
     "start_time": "2024-04-07T01:25:08.608447Z"
    }
   },
   "outputs": [],
   "source": [
    "list0 = np.array([])\n",
    "list1 = np.array([])\n",
    "list2 = np.array([])\n",
    "list3 = np.array([])\n",
    "t0 = np.array([])\n",
    "t1 = np.array([])\n",
    "t2 = np.array([])\n",
    "t3 = np.array([])\n",
    "\n",
    "large_unit = int(column_num/(cpd.cardinality[1]))\n",
    "unit = int(column_num/(cpd.cardinality[1]*cpd.cardinality[2]))\n",
    "for i in range(cpd.cardinality[1]):\n",
    "    list0 = np.append(list0,np.linspace(int(i*large_unit + 0*unit),int(i*large_unit+ 1*unit)-1,int(unit))).astype(int)\n",
    "    list1 = np.append(list1,np.linspace(int(i*large_unit + 1*unit),int(i*large_unit+ 2*unit)-1,int(unit))).astype(int)\n",
    "    list2 = np.append(list2,np.linspace(int(i*large_unit + 2*unit),int(i*large_unit+ 3*unit)-1,int(unit))).astype(int)\n",
    "    list3 = np.append(list3,np.linspace(int(i*large_unit + 3*unit),int(i*large_unit+ 4*unit)-1,int(unit))).astype(int)\n",
    "\n",
    "for i in list0:\n",
    "    t0 = np.append(t0,cpd_matric[i][1])\n",
    "\n",
    "for i in list1:\n",
    "    t1 = np.append(t1,cpd_matric[i][1])\n",
    "\n",
    "for i in list2:\n",
    "    t2 = np.append(t2,cpd_matric[i][1])\n",
    "\n",
    "for i in list3:\n",
    "    t3 = np.append(t3,cpd_matric[i][1])\n",
    "\n",
    "CPD['volume_1_season_0'] = pd.DataFrame(t0)\n",
    "CPD['volume_1_season_1'] = pd.DataFrame(t1)\n",
    "CPD['volume_1_season_2'] = pd.DataFrame(t2)\n",
    "CPD['volume_1_season_3'] = pd.DataFrame(t3)"
   ]
  },
  {
   "cell_type": "code",
   "execution_count": 9,
   "id": "f31f9b2a",
   "metadata": {
    "ExecuteTime": {
     "end_time": "2024-04-07T01:25:08.654960Z",
     "start_time": "2024-04-07T01:25:08.639998Z"
    }
   },
   "outputs": [],
   "source": [
    "list0 = np.array([])\n",
    "list1 = np.array([])\n",
    "list2 = np.array([])\n",
    "t0 = np.array([])\n",
    "t1 = np.array([])\n",
    "t2 = np.array([])\n",
    "\n",
    "large_unit = int(column_num/(cpd.cardinality[1]*cpd.cardinality[2]))\n",
    "unit = int(column_num/(cpd.cardinality[1]*cpd.cardinality[2]*cpd.cardinality[3]))\n",
    "for i in range(cpd.cardinality[1]):\n",
    "    list0 = np.append(list0,np.linspace(int(i*large_unit + 0*unit),int(i*large_unit+ 1*unit)-1,int(unit))).astype(int)\n",
    "    list1 = np.append(list1,np.linspace(int(i*large_unit + 1*unit),int(i*large_unit+ 2*unit)-1,int(unit))).astype(int)\n",
    "    list2 = np.append(list2,np.linspace(int(i*large_unit + 2*unit),int(i*large_unit+ 3*unit)-1,int(unit))).astype(int)\n",
    "\n",
    "for i in list0:\n",
    "    t0 = np.append(t0,cpd_matric[i][1])\n",
    "\n",
    "for i in list1:\n",
    "    t1 = np.append(t1,cpd_matric[i][1])\n",
    "\n",
    "for i in list2:\n",
    "    t2 = np.append(t2,cpd_matric[i][1])\n",
    "\n",
    "CPD['volume_1_timeofweek_0'] = pd.DataFrame(t0)\n",
    "CPD['volume_1_timeofweek_1'] = pd.DataFrame(t1)\n",
    "CPD['volume_1_timeofweek_2'] = pd.DataFrame(t2)"
   ]
  },
  {
   "cell_type": "code",
   "execution_count": 10,
   "id": "c57b5576",
   "metadata": {
    "ExecuteTime": {
     "end_time": "2024-04-07T01:25:08.686051Z",
     "start_time": "2024-04-07T01:25:08.655958Z"
    }
   },
   "outputs": [],
   "source": [
    "list0 = np.array([])\n",
    "list1 = np.array([])\n",
    "list2 = np.array([])\n",
    "list3 = np.array([])\n",
    "list4 = np.array([])\n",
    "t0 = np.array([])\n",
    "t1 = np.array([])\n",
    "t2 = np.array([])\n",
    "t3 = np.array([])\n",
    "t4 = np.array([])\n",
    "\n",
    "large_unit = int(column_num/(cpd.cardinality[1]*cpd.cardinality[2]*cpd.cardinality[3]))\n",
    "unit = int(column_num/(cpd.cardinality[1]*cpd.cardinality[2]*cpd.cardinality[3]*cpd.cardinality[4]))\n",
    "for i in range(cpd.cardinality[1]):\n",
    "    list0 = np.append(list0,np.linspace(int(i*large_unit + 0*unit),int(i*large_unit+ 1*unit)-1,int(unit))).astype(int)\n",
    "    list1 = np.append(list1,np.linspace(int(i*large_unit + 1*unit),int(i*large_unit+ 2*unit)-1,int(unit))).astype(int)\n",
    "    list2 = np.append(list2,np.linspace(int(i*large_unit + 2*unit),int(i*large_unit+ 3*unit)-1,int(unit))).astype(int)\n",
    "    list3 = np.append(list3,np.linspace(int(i*large_unit + 3*unit),int(i*large_unit+ 4*unit)-1,int(unit))).astype(int)\n",
    "    list4 = np.append(list3,np.linspace(int(i*large_unit + 4*unit),int(i*large_unit+ 5*unit)-1,int(unit))).astype(int)\n",
    "\n",
    "for i in list0:\n",
    "    t0 = np.append(t0,cpd_matric[i][1])\n",
    "\n",
    "for i in list1:\n",
    "    t1 = np.append(t1,cpd_matric[i][1])\n",
    "\n",
    "for i in list2:\n",
    "    t2 = np.append(t2,cpd_matric[i][1])\n",
    "\n",
    "for i in list3:\n",
    "    t3 = np.append(t3,cpd_matric[i][1])\n",
    "\n",
    "for i in list4:\n",
    "    t4 = np.append(t4,cpd_matric[i][1])\n",
    "\n",
    "CPD['volume_1_weather_0'] = pd.DataFrame(t0)\n",
    "CPD['volume_1_weather_1'] = pd.DataFrame(t1)\n",
    "CPD['volume_1_weather_2'] = pd.DataFrame(t2)\n",
    "CPD['volume_1_weather_3'] = pd.DataFrame(t3)\n",
    "CPD['volume_1_weather_4'] = pd.DataFrame(t4)"
   ]
  },
  {
   "cell_type": "code",
   "execution_count": 11,
   "id": "7ce748f6",
   "metadata": {
    "ExecuteTime": {
     "end_time": "2024-04-07T01:25:08.701103Z",
     "start_time": "2024-04-07T01:25:08.687067Z"
    }
   },
   "outputs": [],
   "source": [
    "cpd = CPD.copy()"
   ]
  },
  {
   "cell_type": "code",
   "execution_count": 12,
   "id": "c15dad9b",
   "metadata": {
    "ExecuteTime": {
     "end_time": "2024-04-07T01:25:09.435965Z",
     "start_time": "2024-04-07T01:25:08.703067Z"
    }
   },
   "outputs": [],
   "source": [
    "import matplotlib.pyplot as plt\n",
    "import seaborn as sns\n",
    "import plotly.graph_objs as go\n",
    "from plotly.subplots import make_subplots\n",
    "from matplotlib import colors\n",
    "from matplotlib.colors import ListedColormap, LinearSegmentedColormap"
   ]
  },
  {
   "cell_type": "code",
   "execution_count": 13,
   "id": "826f6073",
   "metadata": {
    "ExecuteTime": {
     "end_time": "2024-04-07T01:25:09.497826Z",
     "start_time": "2024-04-07T01:25:09.436886Z"
    }
   },
   "outputs": [],
   "source": [
    "#\n",
    "data = pd.DataFrame()\n",
    "\n",
    "tem = pd.DataFrame()\n",
    "tem['CPD0'] = cpd[['volume_1_daytime_0']]\n",
    "tem['Daytime'] = 'Afternoon'\n",
    "data = pd.concat([data,tem],axis=0)\n",
    "\n",
    "tem = pd.DataFrame()\n",
    "tem['CPD0'] = cpd[['volume_1_daytime_1']]\n",
    "tem['Daytime'] = 'Dawn'\n",
    "data = pd.concat([data,tem],axis=0)\n",
    "\n",
    "tem = pd.DataFrame()\n",
    "tem['CPD0'] = cpd[['volume_1_daytime_2']]\n",
    "tem['Daytime'] = 'Evening'\n",
    "data = pd.concat([data,tem],axis=0)\n",
    "\n",
    "tem = pd.DataFrame()\n",
    "tem['CPD0'] = cpd[['volume_1_daytime_3']]\n",
    "tem['Daytime'] = 'Morning'\n",
    "data = pd.concat([data,tem],axis=0)\n",
    "\n",
    "tem = pd.DataFrame()\n",
    "tem['CPD0'] = cpd[['volume_1_daytime_4']]\n",
    "tem['Daytime'] = 'Noon'\n",
    "data = pd.concat([data,tem],axis=0)\n",
    "\n",
    "tem = pd.DataFrame()\n",
    "tem['CPD1'] = cpd[['volume_1_season_0']]\n",
    "tem['Season'] = 'Autumn'\n",
    "data = pd.concat([data,tem],axis=0)\n",
    "\n",
    "tem = pd.DataFrame()\n",
    "tem['CPD1'] = cpd[['volume_1_season_1']]\n",
    "tem['Season'] = 'Spring'\n",
    "data = pd.concat([data,tem],axis=0)\n",
    "\n",
    "tem = pd.DataFrame()\n",
    "tem['CPD1'] = cpd[['volume_1_season_2']]\n",
    "tem['Season'] = 'Summer'\n",
    "data = pd.concat([data,tem],axis=0)\n",
    "\n",
    "tem = pd.DataFrame()\n",
    "tem['CPD1'] = cpd[['volume_1_season_3']]\n",
    "tem['Season'] = 'Winter'\n",
    "data = pd.concat([data,tem],axis=0)\n",
    "\n",
    "tem = pd.DataFrame()\n",
    "tem['CPD2'] = cpd[['volume_1_timeofweek_0']]\n",
    "tem['Timeofweek'] = 'Weekday'\n",
    "data = pd.concat([data,tem],axis=0)\n",
    "\n",
    "tem = pd.DataFrame()\n",
    "tem['CPD2'] = cpd[['volume_1_timeofweek_1']]\n",
    "tem['Timeofweek'] = 'Weekend'\n",
    "data = pd.concat([data,tem],axis=0)\n",
    "\n",
    "tem = pd.DataFrame()\n",
    "tem['CPD2'] = cpd[['volume_1_timeofweek_2']]\n",
    "tem['Timeofweek'] = 'Holiday'\n",
    "data = pd.concat([data,tem],axis=0)\n",
    "\n",
    "tem = pd.DataFrame()\n",
    "tem['CPD3'] = cpd[['volume_1_weather_0']]\n",
    "tem['Weather'] = 'Cloudy'\n",
    "data = pd.concat([data,tem],axis=0)\n",
    "\n",
    "tem = pd.DataFrame()\n",
    "tem['CPD3'] = cpd[['volume_1_weather_1']]\n",
    "tem['Weather'] = 'Foggy'\n",
    "data = pd.concat([data,tem],axis=0)\n",
    "\n",
    "tem = pd.DataFrame()\n",
    "tem['CPD3'] = cpd[['volume_1_weather_2']]\n",
    "tem['Weather'] = 'Rainy'\n",
    "data = pd.concat([data,tem],axis=0)\n",
    "\n",
    "tem = pd.DataFrame()\n",
    "tem['CPD3'] = cpd[['volume_1_weather_3']]\n",
    "tem['Weather'] = 'Snowy'\n",
    "data = pd.concat([data,tem],axis=0)\n",
    "\n",
    "tem = pd.DataFrame()\n",
    "tem['CPD3'] = cpd[['volume_1_weather_4']]\n",
    "tem['Weather'] = 'Sunny'\n",
    "data = pd.concat([data,tem],axis=0)"
   ]
  },
  {
   "cell_type": "code",
   "execution_count": 14,
   "id": "fdbd3af9",
   "metadata": {
    "ExecuteTime": {
     "end_time": "2024-04-07T01:25:10.648406Z",
     "start_time": "2024-04-07T01:25:09.500232Z"
    }
   },
   "outputs": [
    {
     "data": {
      "image/png": "[encoded data removed]",
      "text/plain": [
       "<Figure size 1152x216 with 4 Axes>"
      ]
     },
     "metadata": {
      "needs_background": "light"
     },
     "output_type": "display_data"
    }
   ],
   "source": [
    "width = 0.4\n",
    "\n",
    "plt.figure(figsize=(16,3))\n",
    "purple_cmap = colors.LinearSegmentedColormap.from_list(\"Purple\", [\"purple\", \"white\"])\n",
    "\n",
    "plt.subplot(1, 4, 1)\n",
    "labels = data['Daytime'].unique()\n",
    "norm = colors.Normalize(vmin=0, vmax=len(labels))\n",
    "color_list = [colors.rgb2hex(purple_cmap(norm(i))) for i in range(len(labels))]\n",
    "custom_palette = sns.color_palette(color_list)\n",
    "sns.boxplot(x='CPD0', y='Daytime', data=data, width=width, palette=custom_palette)\n",
    "#plt.ylabel('Temperature',fontsize=i,fontproperties='Times New Roman')\n",
    "plt.ylabel('Daytime')\n",
    "plt.xlabel('Middle level volume probability')\n",
    "plt.title('CPD of daytime in middle level volume')\n",
    "plt.tight_layout()\n",
    "\n",
    "plt.subplot(1, 4, 2)\n",
    "labels = data['Season'].unique()\n",
    "norm = colors.Normalize(vmin=0, vmax=len(labels))\n",
    "color_list = [colors.rgb2hex(purple_cmap(norm(i))) for i in range(len(labels))]\n",
    "custom_palette = sns.color_palette(color_list)\n",
    "sns.boxplot(x='CPD1', y='Season', data=data, width=width, palette=custom_palette)\n",
    "plt.ylabel('Season')\n",
    "plt.xlabel('Middle level volume probability')\n",
    "plt.title('CPD of season in middle level volume')\n",
    "plt.tight_layout()\n",
    "\n",
    "plt.subplot(1, 4, 3)\n",
    "labels = data['Timeofweek'].unique()\n",
    "norm = colors.Normalize(vmin=0, vmax=len(labels))\n",
    "color_list = [colors.rgb2hex(purple_cmap(norm(i))) for i in range(len(labels))]\n",
    "custom_palette = sns.color_palette(color_list)\n",
    "sns.boxplot(x='CPD2', y='Timeofweek', data=data, width=width, palette=custom_palette)\n",
    "plt.ylabel('Time of week')\n",
    "plt.xlabel('Middle level volume probability')\n",
    "plt.title('CPD of time of week in middle level volume')\n",
    "plt.tight_layout()\n",
    "\n",
    "plt.subplot(1, 4, 4)\n",
    "labels = data['Weather'].unique()\n",
    "norm = colors.Normalize(vmin=0, vmax=len(labels))\n",
    "color_list = [colors.rgb2hex(purple_cmap(norm(i))) for i in range(len(labels))]\n",
    "custom_palette = sns.color_palette(color_list)\n",
    "sns.boxplot(x='CPD3', y='Weather', data=data, width=width, palette=custom_palette)\n",
    "plt.ylabel('Weather')\n",
    "plt.xlabel('Middle level volume probability')\n",
    "plt.title('CPD of weather in middle level volume')\n",
    "plt.tight_layout()\n",
    "#plt.text(1.95,0.4,'Crash',fontsize=10,weight='bold')\n",
    "plt.savefig('Fig/Middle volume.jpg',dpi=500)\n",
    "plt.show()"
   ]
  },
  {
   "cell_type": "code",
   "execution_count": null,
   "id": "8f95df5b",
   "metadata": {},
   "outputs": [],
   "source": []
  }
 ],
 "metadata": {
  "kernelspec": {
   "display_name": "Python 3 (ipykernel)",
   "language": "python",
   "name": "python3"
  },
  "language_info": {
   "codemirror_mode": {
    "name": "ipython",
    "version": 3
   },
   "file_extension": ".py",
   "mimetype": "text/x-python",
   "name": "python",
   "nbconvert_exporter": "python",
   "pygments_lexer": "ipython3",
   "version": "3.9.12"
  },
  "toc": {
   "base_numbering": 1,
   "nav_menu": {},
   "number_sections": true,
   "sideBar": true,
   "skip_h1_title": false,
   "title_cell": "Table of Contents",
   "title_sidebar": "Contents",
   "toc_cell": false,
   "toc_position": {},
   "toc_section_display": true,
   "toc_window_display": false
  }
 },
 "nbformat": 4,
 "nbformat_minor": 5
}
