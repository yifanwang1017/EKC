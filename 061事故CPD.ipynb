{
 "cells": [
  {
   "cell_type": "code",
   "execution_count": 1,
   "id": "02cb3dcc",
   "metadata": {
    "ExecuteTime": {
     "end_time": "2024-04-07T01:27:51.384638Z",
     "start_time": "2024-04-07T01:27:49.243961Z"
    }
   },
   "outputs": [],
   "source": [
    "import numpy as np\n",
    "import pandas as pd\n",
    "import matplotlib.pyplot as plt\n",
    "import seaborn as sns\n",
    "import plotly.graph_objs as go\n",
    "from plotly.subplots import make_subplots\n",
    "from matplotlib import colors\n",
    "from matplotlib.colors import ListedColormap, LinearSegmentedColormap\n",
    "from sklearn.model_selection import train_test_split, GridSearchCV, StratifiedKFold, cross_val_score\n",
    "from sklearn.metrics import accuracy_score, recall_score, precision_score, f1_score, roc_auc_score\n",
    "from sklearn.metrics import classification_report, ConfusionMatrixDisplay\n",
    "from xgboost import XGBClassifier\n",
    "from sklearn.base import clone \n",
    "from matplotlib.font_manager import FontProperties\n",
    "%matplotlib inline"
   ]
  },
  {
   "cell_type": "code",
   "execution_count": 2,
   "id": "2d950571",
   "metadata": {
    "ExecuteTime": {
     "end_time": "2024-04-07T01:27:52.334486Z",
     "start_time": "2024-04-07T01:27:51.386445Z"
    }
   },
   "outputs": [],
   "source": [
    "# In order to display Plotly plots in a Jupyter Notebook\n",
    "import plotly.io as pio \n",
    "pio.renderers.default = 'notebook'"
   ]
  },
  {
   "cell_type": "code",
   "execution_count": 3,
   "id": "19b807d7",
   "metadata": {
    "ExecuteTime": {
     "end_time": "2024-04-07T01:27:52.349724Z",
     "start_time": "2024-04-07T01:27:52.335796Z"
    }
   },
   "outputs": [],
   "source": [
    "fig_x = 15\n",
    "fig_y = 12\n",
    "x_label = 13\n",
    "y_label = 13\n",
    "title_size = 15"
   ]
  },
  {
   "cell_type": "markdown",
   "id": "b4625d46",
   "metadata": {},
   "source": [
    "# 事故CPD"
   ]
  },
  {
   "cell_type": "code",
   "execution_count": 4,
   "id": "dd46392c",
   "metadata": {
    "ExecuteTime": {
     "end_time": "2024-04-07T01:27:53.112710Z",
     "start_time": "2024-04-07T01:27:52.351682Z"
    }
   },
   "outputs": [
    {
     "name": "stdout",
     "output_type": "stream",
     "text": [
      "(15, 11)\n",
      "Index(['crash_1_temperature_0', 'crash_1_temperature_1',\n",
      "       'crash_1_temperature_2', 'crash_1_volume_0', 'crash_1_volume_1',\n",
      "       'crash_1_volume_2', 'crash_1_weather_0', 'crash_1_weather_1',\n",
      "       'crash_1_weather_2', 'crash_1_weather_3', 'crash_1_weather_4'],\n",
      "      dtype='object')\n"
     ]
    },
    {
     "data": {
      "text/html": [
       "<div>\n",
       "<style scoped>\n",
       "    .dataframe tbody tr th:only-of-type {\n",
       "        vertical-align: middle;\n",
       "    }\n",
       "\n",
       "    .dataframe tbody tr th {\n",
       "        vertical-align: top;\n",
       "    }\n",
       "\n",
       "    .dataframe thead th {\n",
       "        text-align: right;\n",
       "    }\n",
       "</style>\n",
       "<table border=\"1\" class=\"dataframe\">\n",
       "  <thead>\n",
       "    <tr style=\"text-align: right;\">\n",
       "      <th></th>\n",
       "      <th>crash_1_temperature_0</th>\n",
       "      <th>crash_1_temperature_1</th>\n",
       "      <th>crash_1_temperature_2</th>\n",
       "      <th>crash_1_volume_0</th>\n",
       "      <th>crash_1_volume_1</th>\n",
       "      <th>crash_1_volume_2</th>\n",
       "      <th>crash_1_weather_0</th>\n",
       "      <th>crash_1_weather_1</th>\n",
       "      <th>crash_1_weather_2</th>\n",
       "      <th>crash_1_weather_3</th>\n",
       "      <th>crash_1_weather_4</th>\n",
       "    </tr>\n",
       "  </thead>\n",
       "  <tbody>\n",
       "    <tr>\n",
       "      <th>0</th>\n",
       "      <td>0.024536</td>\n",
       "      <td>0.012014</td>\n",
       "      <td>0.016139</td>\n",
       "      <td>0.024536</td>\n",
       "      <td>0.058206</td>\n",
       "      <td>0.020367</td>\n",
       "      <td>0.024536</td>\n",
       "      <td>0.016222</td>\n",
       "      <td>0.030354</td>\n",
       "      <td>0.074866</td>\n",
       "      <td>0.019001</td>\n",
       "    </tr>\n",
       "    <tr>\n",
       "      <th>1</th>\n",
       "      <td>0.016222</td>\n",
       "      <td>0.024659</td>\n",
       "      <td>0.029685</td>\n",
       "      <td>0.016222</td>\n",
       "      <td>0.027149</td>\n",
       "      <td>0.010870</td>\n",
       "      <td>0.058206</td>\n",
       "      <td>0.027149</td>\n",
       "      <td>0.063380</td>\n",
       "      <td>0.186335</td>\n",
       "      <td>0.048458</td>\n",
       "    </tr>\n",
       "  </tbody>\n",
       "</table>\n",
       "</div>"
      ],
      "text/plain": [
       "   crash_1_temperature_0  crash_1_temperature_1  crash_1_temperature_2  \\\n",
       "0               0.024536               0.012014               0.016139   \n",
       "1               0.016222               0.024659               0.029685   \n",
       "\n",
       "   crash_1_volume_0  crash_1_volume_1  crash_1_volume_2  crash_1_weather_0  \\\n",
       "0          0.024536          0.058206          0.020367           0.024536   \n",
       "1          0.016222          0.027149          0.010870           0.058206   \n",
       "\n",
       "   crash_1_weather_1  crash_1_weather_2  crash_1_weather_3  crash_1_weather_4  \n",
       "0           0.016222           0.030354           0.074866           0.019001  \n",
       "1           0.027149           0.063380           0.186335           0.048458  "
      ]
     },
     "execution_count": 4,
     "metadata": {},
     "output_type": "execute_result"
    }
   ],
   "source": [
    "cpd = pd.read_excel('CPD_crash_1.xlsx')\n",
    "print(cpd.shape)\n",
    "print(cpd.columns)\n",
    "cpd.head(2)"
   ]
  },
  {
   "cell_type": "code",
   "execution_count": 5,
   "id": "b363568e",
   "metadata": {
    "ExecuteTime": {
     "end_time": "2024-04-07T01:27:53.158816Z",
     "start_time": "2024-04-07T01:27:53.114705Z"
    }
   },
   "outputs": [],
   "source": [
    "data = pd.DataFrame()\n",
    "\n",
    "tem = pd.DataFrame()\n",
    "tem['CPD0'] = cpd[['crash_1_temperature_0']]\n",
    "tem['Temperature'] = 'Cold'\n",
    "data = pd.concat([data,tem],axis=0)\n",
    "\n",
    "tem = pd.DataFrame()\n",
    "tem['CPD0'] = cpd[['crash_1_temperature_1']]\n",
    "tem['Temperature'] = 'Cool'\n",
    "data = pd.concat([data,tem],axis=0)\n",
    "\n",
    "tem = pd.DataFrame()\n",
    "tem['CPD0'] = cpd[['crash_1_temperature_2']]\n",
    "tem['Temperature'] = 'Hot'\n",
    "data = pd.concat([data,tem],axis=0)\n",
    "\n",
    "tem = pd.DataFrame()\n",
    "tem['CPD1'] = cpd[['crash_1_volume_0']]\n",
    "tem['Volume'] = 'Low level'\n",
    "data = pd.concat([data,tem],axis=0)\n",
    "\n",
    "tem = pd.DataFrame()\n",
    "tem['CPD1'] = cpd[['crash_1_volume_1']]\n",
    "tem['Volume'] = 'Middle level'\n",
    "data = pd.concat([data,tem],axis=0)\n",
    "\n",
    "tem = pd.DataFrame()\n",
    "tem['CPD1'] = cpd[['crash_1_volume_2']]\n",
    "tem['Volume'] = 'High level'\n",
    "data = pd.concat([data,tem],axis=0)\n",
    "\n",
    "tem = pd.DataFrame()\n",
    "tem['CPD2'] = cpd[['crash_1_weather_0']]\n",
    "tem['Weather'] = 'Cloudy'\n",
    "data = pd.concat([data,tem],axis=0)\n",
    "\n",
    "tem = pd.DataFrame()\n",
    "tem['CPD2'] = cpd[['crash_1_weather_1']]\n",
    "tem['Weather'] = 'Foggy'\n",
    "data = pd.concat([data,tem],axis=0)\n",
    "\n",
    "tem = pd.DataFrame()\n",
    "tem['CPD2'] = cpd[['crash_1_weather_2']]\n",
    "tem['Weather'] = 'Rainy'\n",
    "data = pd.concat([data,tem],axis=0)\n",
    "\n",
    "tem = pd.DataFrame()\n",
    "tem['CPD2'] = cpd[['crash_1_weather_3']]\n",
    "tem['Weather'] = 'Snowy'\n",
    "data = pd.concat([data,tem],axis=0)\n",
    "\n",
    "tem = pd.DataFrame()\n",
    "tem['CPD2'] = cpd[['crash_1_weather_4']]\n",
    "tem['Weather'] = 'Sunny'\n",
    "data = pd.concat([data,tem],axis=0)"
   ]
  },
  {
   "cell_type": "code",
   "execution_count": 6,
   "id": "4f26dbfe",
   "metadata": {
    "ExecuteTime": {
     "end_time": "2024-04-07T01:27:54.030643Z",
     "start_time": "2024-04-07T01:27:53.159774Z"
    }
   },
   "outputs": [
    {
     "data": {
      "image/png": "[encoded data removed]",
      "text/plain": [
       "<Figure size 864x216 with 3 Axes>"
      ]
     },
     "metadata": {
      "needs_background": "light"
     },
     "output_type": "display_data"
    }
   ],
   "source": [
    "width = 0.4\n",
    "\n",
    "plt.figure(figsize=(12,3))\n",
    "purple_cmap = colors.LinearSegmentedColormap.from_list(\"Purple\", [\"purple\", \"white\"])\n",
    "\n",
    "plt.subplot(1, 3, 1)\n",
    "labels = data['Temperature'].unique()\n",
    "norm = colors.Normalize(vmin=0, vmax=len(labels))\n",
    "color_list = [colors.rgb2hex(purple_cmap(norm(i))) for i in range(len(labels))]\n",
    "custom_palette = sns.color_palette(color_list)\n",
    "sns.boxplot(x='CPD0', y='Temperature', data=data, width=width, palette=custom_palette)\n",
    "#plt.ylabel('Temperature',fontsize=i,fontproperties='Times New Roman')\n",
    "plt.ylabel('Temperature')\n",
    "plt.xlabel('Crash probability')\n",
    "plt.title('CPD of temperature in crash cases')\n",
    "plt.tight_layout()\n",
    "\n",
    "plt.subplot(1, 3, 2)\n",
    "labels = data['Volume'].unique()\n",
    "norm = colors.Normalize(vmin=0, vmax=len(labels))\n",
    "color_list = [colors.rgb2hex(purple_cmap(norm(i))) for i in range(len(labels))]\n",
    "custom_palette = sns.color_palette(color_list)\n",
    "sns.boxplot(x='CPD1', y='Volume', data=data, width=width, palette=custom_palette)\n",
    "plt.ylabel('Volume')\n",
    "plt.xlabel('Crash probability')\n",
    "plt.title('CPD of volume in crash cases')\n",
    "plt.tight_layout()\n",
    "\n",
    "plt.subplot(1, 3, 3)\n",
    "labels = data['Weather'].unique()\n",
    "norm = colors.Normalize(vmin=0, vmax=len(labels))\n",
    "color_list = [colors.rgb2hex(purple_cmap(norm(i))) for i in range(len(labels))]\n",
    "custom_palette = sns.color_palette(color_list)\n",
    "sns.boxplot(x='CPD2', y='Weather', data=data, width=width, palette=custom_palette)\n",
    "plt.ylabel('Weather')\n",
    "plt.xlabel('Crash probability')\n",
    "plt.title('CPD of weather in crash cases')\n",
    "plt.tight_layout()\n",
    "#plt.text(1.95,0.4,'Crash',fontsize=10,weight='bold')\n",
    "plt.savefig('Fig/Crash cases.jpg',dpi=500)\n",
    "plt.show()"
   ]
  },
  {
   "cell_type": "code",
   "execution_count": null,
   "id": "05cb4dc0",
   "metadata": {},
   "outputs": [],
   "source": []
  }
 ],
 "metadata": {
  "kernelspec": {
   "display_name": "Python 3 (ipykernel)",
   "language": "python",
   "name": "python3"
  },
  "language_info": {
   "codemirror_mode": {
    "name": "ipython",
    "version": 3
   },
   "file_extension": ".py",
   "mimetype": "text/x-python",
   "name": "python",
   "nbconvert_exporter": "python",
   "pygments_lexer": "ipython3",
   "version": "3.9.12"
  },
  "toc": {
   "base_numbering": 1,
   "nav_menu": {},
   "number_sections": true,
   "sideBar": true,
   "skip_h1_title": false,
   "title_cell": "Table of Contents",
   "title_sidebar": "Contents",
   "toc_cell": false,
   "toc_position": {},
   "toc_section_display": true,
   "toc_window_display": false
  }
 },
 "nbformat": 4,
 "nbformat_minor": 5
}
