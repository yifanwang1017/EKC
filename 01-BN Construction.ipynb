{
 "cells": [
  {
   "cell_type": "code",
   "execution_count": 1,
   "id": "2d4ef5ca",
   "metadata": {
    "ExecuteTime": {
     "end_time": "2025-06-04T12:54:14.261312Z",
     "start_time": "2025-06-04T12:54:13.771704Z"
    }
   },
   "outputs": [],
   "source": [
    "import pandas as pd\n",
    "import numpy as np"
   ]
  },
  {
   "cell_type": "code",
   "execution_count": 2,
   "id": "14b60b9d",
   "metadata": {
    "ExecuteTime": {
     "end_time": "2025-06-04T12:54:17.898887Z",
     "start_time": "2025-06-04T12:54:14.262397Z"
    }
   },
   "outputs": [
    {
     "data": {
      "text/html": [
       "<div>\n",
       "<style scoped>\n",
       "    .dataframe tbody tr th:only-of-type {\n",
       "        vertical-align: middle;\n",
       "    }\n",
       "\n",
       "    .dataframe tbody tr th {\n",
       "        vertical-align: top;\n",
       "    }\n",
       "\n",
       "    .dataframe thead th {\n",
       "        text-align: right;\n",
       "    }\n",
       "</style>\n",
       "<table border=\"1\" class=\"dataframe\">\n",
       "  <thead>\n",
       "    <tr style=\"text-align: right;\">\n",
       "      <th></th>\n",
       "      <th>crash</th>\n",
       "      <th>time of week</th>\n",
       "      <th>weather</th>\n",
       "      <th>volume</th>\n",
       "      <th>temperature</th>\n",
       "      <th>daytime</th>\n",
       "      <th>season</th>\n",
       "    </tr>\n",
       "  </thead>\n",
       "  <tbody>\n",
       "    <tr>\n",
       "      <th>0</th>\n",
       "      <td>1</td>\n",
       "      <td>1</td>\n",
       "      <td>cloudy</td>\n",
       "      <td>0</td>\n",
       "      <td>0</td>\n",
       "      <td>afternoon</td>\n",
       "      <td>winter</td>\n",
       "    </tr>\n",
       "  </tbody>\n",
       "</table>\n",
       "</div>"
      ],
      "text/plain": [
       "   crash  time of week weather  volume  temperature    daytime  season\n",
       "0      1             1  cloudy       0            0  afternoon  winter"
      ]
     },
     "execution_count": 2,
     "metadata": {},
     "output_type": "execute_result"
    }
   ],
   "source": [
    "data = pd.read_excel('Data.xlsx')\n",
    "data.head(1)"
   ]
  },
  {
   "cell_type": "markdown",
   "id": "46af4e13",
   "metadata": {},
   "source": [
    "# BN structure"
   ]
  },
  {
   "cell_type": "code",
   "execution_count": 3,
   "id": "195e95ef",
   "metadata": {
    "ExecuteTime": {
     "end_time": "2025-06-04T12:54:19.270547Z",
     "start_time": "2025-06-04T12:54:17.900270Z"
    }
   },
   "outputs": [],
   "source": [
    "from pgmpy.models import BayesianNetwork\n",
    "model = BayesianNetwork([('time of week', 'temperature'),('time of week','volume'),\n",
    "                         ('daytime','temperature'),('daytime','volume'),\n",
    "                         ('season','temperature'),('season','volume'),('season','weather'),\n",
    "                         ('weather','temperature'),('weather','volume'),('weather','crash'),\n",
    "                         ('temperature','crash'),\n",
    "                         ('volume','crash')])"
   ]
  },
  {
   "cell_type": "markdown",
   "id": "7c5e1346",
   "metadata": {},
   "source": [
    "# BN structure evaluation"
   ]
  },
  {
   "cell_type": "code",
   "execution_count": 4,
   "id": "e37cc9ed",
   "metadata": {
    "ExecuteTime": {
     "end_time": "2025-06-04T12:54:20.100224Z",
     "start_time": "2025-06-04T12:54:19.271676Z"
    }
   },
   "outputs": [
    {
     "name": "stdout",
     "output_type": "stream",
     "text": [
      "K2: -238913.00812345115\n",
      "BDeu: -239081.36505176625\n",
      "BDs -240110.7529786899\n",
      "BIC: -243757.27993152925\n"
     ]
    }
   ],
   "source": [
    "from pgmpy.metrics import structure_score\n",
    "k2 = structure_score(model, data, scoring_method=\"k2\") \n",
    "bdeu = structure_score(model, data, scoring_method=\"bdeu\") \n",
    "bds  = structure_score(model, data, scoring_method=\"bds\") \n",
    "bic = structure_score(model, data, scoring_method=\"bic\")\n",
    "print(\"K2:\", k2)\n",
    "print(\"BDeu:\", bdeu)\n",
    "print(\"BDs\", bds)\n",
    "print(\"BIC:\", bic)"
   ]
  },
  {
   "cell_type": "code",
   "execution_count": 5,
   "id": "c5b7131a",
   "metadata": {
    "ExecuteTime": {
     "end_time": "2025-06-04T12:54:20.132282Z",
     "start_time": "2025-06-04T12:54:20.101575Z"
    },
    "code_folding": []
   },
   "outputs": [
    {
     "name": "stdout",
     "output_type": "stream",
     "text": [
      "BIC: -66572.84078519492\n"
     ]
    }
   ],
   "source": [
    "model_simpled = BayesianNetwork([('time of week','volume'),('volume','crash')])\n",
    "data_simpled = data[['time of week','volume','crash']]\n",
    "bic = structure_score(model_simpled, data_simpled, scoring_method=\"bic\")\n",
    "print(\"BIC:\", bic)"
   ]
  },
  {
   "cell_type": "markdown",
   "id": "a5b7a09b",
   "metadata": {},
   "source": [
    "# BN parameter learning"
   ]
  },
  {
   "cell_type": "code",
   "execution_count": 6,
   "id": "73c35e78",
   "metadata": {
    "ExecuteTime": {
     "end_time": "2025-06-04T12:54:20.148030Z",
     "start_time": "2025-06-04T12:54:20.133480Z"
    }
   },
   "outputs": [],
   "source": [
    "from pgmpy.estimators import BayesianEstimator, MaximumLikelihoodEstimator\n",
    "estimator = MaximumLikelihoodEstimator(model, data)"
   ]
  },
  {
   "cell_type": "code",
   "execution_count": 7,
   "id": "c7aec160",
   "metadata": {
    "ExecuteTime": {
     "end_time": "2025-06-04T12:54:20.179485Z",
     "start_time": "2025-06-04T12:54:20.149246Z"
    }
   },
   "outputs": [
    {
     "name": "stdout",
     "output_type": "stream",
     "text": [
      "['crash', 'temperature', 'volume', 'weather']\n",
      "[2 3 3 5]\n"
     ]
    },
    {
     "data": {
      "text/html": [
       "<div>\n",
       "<style scoped>\n",
       "    .dataframe tbody tr th:only-of-type {\n",
       "        vertical-align: middle;\n",
       "    }\n",
       "\n",
       "    .dataframe tbody tr th {\n",
       "        vertical-align: top;\n",
       "    }\n",
       "\n",
       "    .dataframe thead th {\n",
       "        text-align: right;\n",
       "    }\n",
       "</style>\n",
       "<table border=\"1\" class=\"dataframe\">\n",
       "  <thead>\n",
       "    <tr style=\"text-align: right;\">\n",
       "      <th></th>\n",
       "      <th>0</th>\n",
       "      <th>1</th>\n",
       "      <th>2</th>\n",
       "      <th>3</th>\n",
       "      <th>4</th>\n",
       "      <th>5</th>\n",
       "      <th>6</th>\n",
       "      <th>7</th>\n",
       "      <th>8</th>\n",
       "      <th>9</th>\n",
       "      <th>...</th>\n",
       "      <th>35</th>\n",
       "      <th>36</th>\n",
       "      <th>37</th>\n",
       "      <th>38</th>\n",
       "      <th>39</th>\n",
       "      <th>40</th>\n",
       "      <th>41</th>\n",
       "      <th>42</th>\n",
       "      <th>43</th>\n",
       "      <th>44</th>\n",
       "    </tr>\n",
       "  </thead>\n",
       "  <tbody>\n",
       "    <tr>\n",
       "      <th>0</th>\n",
       "      <td>0.975464</td>\n",
       "      <td>0.983778</td>\n",
       "      <td>0.969646</td>\n",
       "      <td>0.925134</td>\n",
       "      <td>0.980999</td>\n",
       "      <td>0.941794</td>\n",
       "      <td>0.972851</td>\n",
       "      <td>0.93662</td>\n",
       "      <td>0.813665</td>\n",
       "      <td>0.951542</td>\n",
       "      <td>...</td>\n",
       "      <td>0.965665</td>\n",
       "      <td>0.965714</td>\n",
       "      <td>0.966862</td>\n",
       "      <td>0.5</td>\n",
       "      <td>0.922807</td>\n",
       "      <td>0.96308</td>\n",
       "      <td>0.97561</td>\n",
       "      <td>0.970588</td>\n",
       "      <td>0.5</td>\n",
       "      <td>0.982609</td>\n",
       "    </tr>\n",
       "    <tr>\n",
       "      <th>1</th>\n",
       "      <td>0.024536</td>\n",
       "      <td>0.016222</td>\n",
       "      <td>0.030354</td>\n",
       "      <td>0.074866</td>\n",
       "      <td>0.019001</td>\n",
       "      <td>0.058206</td>\n",
       "      <td>0.027149</td>\n",
       "      <td>0.06338</td>\n",
       "      <td>0.186335</td>\n",
       "      <td>0.048458</td>\n",
       "      <td>...</td>\n",
       "      <td>0.034335</td>\n",
       "      <td>0.034286</td>\n",
       "      <td>0.033138</td>\n",
       "      <td>0.5</td>\n",
       "      <td>0.077193</td>\n",
       "      <td>0.03692</td>\n",
       "      <td>0.02439</td>\n",
       "      <td>0.029412</td>\n",
       "      <td>0.5</td>\n",
       "      <td>0.017391</td>\n",
       "    </tr>\n",
       "  </tbody>\n",
       "</table>\n",
       "<p>2 rows × 45 columns</p>\n",
       "</div>"
      ],
      "text/plain": [
       "         0         1         2         3         4         5         6   \\\n",
       "0  0.975464  0.983778  0.969646  0.925134  0.980999  0.941794  0.972851   \n",
       "1  0.024536  0.016222  0.030354  0.074866  0.019001  0.058206  0.027149   \n",
       "\n",
       "        7         8         9   ...        35        36        37   38  \\\n",
       "0  0.93662  0.813665  0.951542  ...  0.965665  0.965714  0.966862  0.5   \n",
       "1  0.06338  0.186335  0.048458  ...  0.034335  0.034286  0.033138  0.5   \n",
       "\n",
       "         39       40       41        42   43        44  \n",
       "0  0.922807  0.96308  0.97561  0.970588  0.5  0.982609  \n",
       "1  0.077193  0.03692  0.02439  0.029412  0.5  0.017391  \n",
       "\n",
       "[2 rows x 45 columns]"
      ]
     },
     "execution_count": 7,
     "metadata": {},
     "output_type": "execute_result"
    }
   ],
   "source": [
    "cpd = estimator.estimate_cpd('crash')\n",
    "print(cpd.variables)\n",
    "print(cpd.cardinality)\n",
    "pd.DataFrame(cpd.get_values())"
   ]
  },
  {
   "cell_type": "code",
   "execution_count": 8,
   "id": "c8f12302",
   "metadata": {
    "ExecuteTime": {
     "end_time": "2025-06-04T12:54:20.195170Z",
     "start_time": "2025-06-04T12:54:20.180789Z"
    }
   },
   "outputs": [],
   "source": [
    "cpd_matric = pd.DataFrame(cpd.get_values())\n",
    "column_num = cpd_matric.shape[1]"
   ]
  },
  {
   "cell_type": "markdown",
   "id": "e66d113d",
   "metadata": {},
   "source": [
    "# CPD of crash"
   ]
  },
  {
   "cell_type": "code",
   "execution_count": 9,
   "id": "b96810c1",
   "metadata": {
    "ExecuteTime": {
     "end_time": "2025-06-04T12:54:20.210169Z",
     "start_time": "2025-06-04T12:54:20.196263Z"
    }
   },
   "outputs": [],
   "source": [
    "CPD = pd.DataFrame()"
   ]
  },
  {
   "cell_type": "code",
   "execution_count": 10,
   "id": "02420d74",
   "metadata": {
    "ExecuteTime": {
     "end_time": "2025-06-04T12:54:20.241485Z",
     "start_time": "2025-06-04T12:54:20.215275Z"
    }
   },
   "outputs": [],
   "source": [
    "#crash:1 tem\n",
    "list0 = np.array([])\n",
    "list1 = np.array([])\n",
    "list2 = np.array([])\n",
    "large_unit = 0\n",
    "unit = int(column_num/cpd.cardinality[1])\n",
    "list0 = np.append(list0,np.linspace(int(large_unit),int(large_unit + unit)-1,int(unit))).astype(int)\n",
    "list1 = np.append(list1,np.linspace(int(large_unit + unit),int(large_unit + 2*unit)-1,int(unit))).astype(int)\n",
    "list2 = np.append(list2,np.linspace(int(large_unit + 2*unit),int(large_unit + 3*unit)-1,int(unit))).astype(int)\n",
    "\n",
    "t0 = np.array([])\n",
    "for i in list0:\n",
    "    t0 = np.append(t0,cpd_matric[i][1])\n",
    "\n",
    "t1 = np.array([])\n",
    "for i in list1:\n",
    "    t1 = np.append(t1,cpd_matric[i][1])\n",
    "\n",
    "t2 = np.array([])\n",
    "for i in list2:\n",
    "    t2 = np.append(t2,cpd_matric[i][1])\n",
    "\n",
    "CPD['crash_1_temperature_0'] = pd.DataFrame(t0)\n",
    "CPD['crash_1_temperature_1'] = pd.DataFrame(t1)\n",
    "CPD['crash_1_temperature_2'] = pd.DataFrame(t2)"
   ]
  },
  {
   "cell_type": "code",
   "execution_count": 11,
   "id": "2be124d0",
   "metadata": {
    "ExecuteTime": {
     "end_time": "2025-06-04T12:54:20.272616Z",
     "start_time": "2025-06-04T12:54:20.243483Z"
    }
   },
   "outputs": [],
   "source": [
    "#crash:1 low_tem\n",
    "list0 = np.array([])\n",
    "list1 = np.array([])\n",
    "list2 = np.array([])\n",
    "large_unit = int(column_num/(cpd.cardinality[1]))\n",
    "unit = int(column_num/(cpd.cardinality[1]*cpd.cardinality[2]))\n",
    "for i in range(cpd.cardinality[1]):\n",
    "    list0 = np.append(list0,np.linspace(int(i*large_unit),int(i*large_unit+ unit)-1,int(unit))).astype(int)\n",
    "    list1 = np.append(list1,np.linspace(int(i*large_unit + unit),int(i*large_unit+ 2*unit)-1,int(unit))).astype(int)\n",
    "    list2 = np.append(list2,np.linspace(int(i*large_unit + 2*unit),int(i*large_unit+ 3*unit)-1,int(unit))).astype(int)\n",
    "\n",
    "t0 = np.array([])\n",
    "for i in list0:\n",
    "    t0 = np.append(t0,cpd_matric[i][1])\n",
    "\n",
    "t1 = np.array([])\n",
    "for i in list1:\n",
    "    t1 = np.append(t1,cpd_matric[i][1])\n",
    "\n",
    "t2 = np.array([])\n",
    "for i in list2:\n",
    "    t2 = np.append(t2,cpd_matric[i][1])\n",
    "\n",
    "CPD['crash_1_volume_0'] = pd.DataFrame(t0)\n",
    "CPD['crash_1_volume_1'] = pd.DataFrame(t1)\n",
    "CPD['crash_1_volume_2'] = pd.DataFrame(t2)"
   ]
  },
  {
   "cell_type": "code",
   "execution_count": 12,
   "id": "8a95a21b",
   "metadata": {
    "ExecuteTime": {
     "end_time": "2025-06-04T12:54:20.304306Z",
     "start_time": "2025-06-04T12:54:20.273780Z"
    }
   },
   "outputs": [],
   "source": [
    "#crash:1 month\n",
    "list0 = np.array([])\n",
    "list1 = np.array([])\n",
    "list2 = np.array([])\n",
    "list3 = np.array([])\n",
    "list4 = np.array([])\n",
    "t0 = np.array([])\n",
    "t1 = np.array([])\n",
    "t2 = np.array([])\n",
    "t3 = np.array([])\n",
    "t4 = np.array([])\n",
    "\n",
    "large_unit = int(column_num/(cpd.cardinality[1]*cpd.cardinality[2]))\n",
    "unit = int(column_num/(cpd.cardinality[1]*cpd.cardinality[2]*cpd.cardinality[3]))\n",
    "for i in range(cpd.cardinality[1]*cpd.cardinality[2]):\n",
    "    list0 = np.append(list0,np.linspace(int(i*large_unit + 0*unit),int(i*large_unit+ 1*unit)-1,int(unit))).astype(int)\n",
    "    list1 = np.append(list1,np.linspace(int(i*large_unit + 1*unit),int(i*large_unit+ 2*unit)-1,int(unit))).astype(int)\n",
    "    list2 = np.append(list2,np.linspace(int(i*large_unit + 2*unit),int(i*large_unit+ 3*unit)-1,int(unit))).astype(int)\n",
    "    list3 = np.append(list3,np.linspace(int(i*large_unit + 3*unit),int(i*large_unit+ 4*unit)-1,int(unit))).astype(int)\n",
    "    list4 = np.append(list4,np.linspace(int(i*large_unit + 4*unit),int(i*large_unit+ 5*unit)-1,int(unit))).astype(int)\n",
    "\n",
    "for i in list0:\n",
    "    t0 = np.append(t0,cpd_matric[i][1])\n",
    "\n",
    "for i in list1:\n",
    "    t1 = np.append(t1,cpd_matric[i][1])\n",
    "\n",
    "for i in list2:\n",
    "    t2 = np.append(t2,cpd_matric[i][1])\n",
    "\n",
    "for i in list3:\n",
    "    t3 = np.append(t3,cpd_matric[i][1])\n",
    "\n",
    "for i in list4:\n",
    "    t4 = np.append(t4,cpd_matric[i][1])\n",
    "\n",
    "\n",
    "CPD['crash_1_weather_0'] = pd.DataFrame(t0)\n",
    "CPD['crash_1_weather_1'] = pd.DataFrame(t1)\n",
    "CPD['crash_1_weather_2'] = pd.DataFrame(t2)\n",
    "CPD['crash_1_weather_3'] = pd.DataFrame(t3)\n",
    "CPD['crash_1_weather_4'] = pd.DataFrame(t4)"
   ]
  },
  {
   "cell_type": "code",
   "execution_count": 13,
   "id": "06b49f84",
   "metadata": {
    "ExecuteTime": {
     "end_time": "2025-06-04T12:54:20.320353Z",
     "start_time": "2025-06-04T12:54:20.306486Z"
    }
   },
   "outputs": [
    {
     "name": "stdout",
     "output_type": "stream",
     "text": [
      "(15, 11)\n"
     ]
    },
    {
     "data": {
      "text/html": [
       "<div>\n",
       "<style scoped>\n",
       "    .dataframe tbody tr th:only-of-type {\n",
       "        vertical-align: middle;\n",
       "    }\n",
       "\n",
       "    .dataframe tbody tr th {\n",
       "        vertical-align: top;\n",
       "    }\n",
       "\n",
       "    .dataframe thead th {\n",
       "        text-align: right;\n",
       "    }\n",
       "</style>\n",
       "<table border=\"1\" class=\"dataframe\">\n",
       "  <thead>\n",
       "    <tr style=\"text-align: right;\">\n",
       "      <th></th>\n",
       "      <th>crash_1_temperature_0</th>\n",
       "      <th>crash_1_temperature_1</th>\n",
       "      <th>crash_1_temperature_2</th>\n",
       "      <th>crash_1_volume_0</th>\n",
       "      <th>crash_1_volume_1</th>\n",
       "      <th>crash_1_volume_2</th>\n",
       "      <th>crash_1_weather_0</th>\n",
       "      <th>crash_1_weather_1</th>\n",
       "      <th>crash_1_weather_2</th>\n",
       "      <th>crash_1_weather_3</th>\n",
       "      <th>crash_1_weather_4</th>\n",
       "    </tr>\n",
       "  </thead>\n",
       "  <tbody>\n",
       "    <tr>\n",
       "      <th>0</th>\n",
       "      <td>0.024536</td>\n",
       "      <td>0.012014</td>\n",
       "      <td>0.016139</td>\n",
       "      <td>0.024536</td>\n",
       "      <td>0.058206</td>\n",
       "      <td>0.020367</td>\n",
       "      <td>0.024536</td>\n",
       "      <td>0.016222</td>\n",
       "      <td>0.030354</td>\n",
       "      <td>0.074866</td>\n",
       "      <td>0.019001</td>\n",
       "    </tr>\n",
       "    <tr>\n",
       "      <th>1</th>\n",
       "      <td>0.016222</td>\n",
       "      <td>0.024659</td>\n",
       "      <td>0.029685</td>\n",
       "      <td>0.016222</td>\n",
       "      <td>0.027149</td>\n",
       "      <td>0.010870</td>\n",
       "      <td>0.058206</td>\n",
       "      <td>0.027149</td>\n",
       "      <td>0.063380</td>\n",
       "      <td>0.186335</td>\n",
       "      <td>0.048458</td>\n",
       "    </tr>\n",
       "  </tbody>\n",
       "</table>\n",
       "</div>"
      ],
      "text/plain": [
       "   crash_1_temperature_0  crash_1_temperature_1  crash_1_temperature_2  \\\n",
       "0               0.024536               0.012014               0.016139   \n",
       "1               0.016222               0.024659               0.029685   \n",
       "\n",
       "   crash_1_volume_0  crash_1_volume_1  crash_1_volume_2  crash_1_weather_0  \\\n",
       "0          0.024536          0.058206          0.020367           0.024536   \n",
       "1          0.016222          0.027149          0.010870           0.058206   \n",
       "\n",
       "   crash_1_weather_1  crash_1_weather_2  crash_1_weather_3  crash_1_weather_4  \n",
       "0           0.016222           0.030354           0.074866           0.019001  \n",
       "1           0.027149           0.063380           0.186335           0.048458  "
      ]
     },
     "execution_count": 13,
     "metadata": {},
     "output_type": "execute_result"
    }
   ],
   "source": [
    "print(CPD.shape)\n",
    "CPD.head(2)"
   ]
  },
  {
   "cell_type": "code",
   "execution_count": 14,
   "id": "2dcf627e",
   "metadata": {
    "ExecuteTime": {
     "end_time": "2025-06-04T12:54:20.757192Z",
     "start_time": "2025-06-04T12:54:20.321322Z"
    }
   },
   "outputs": [],
   "source": [
    "CPD.to_excel('CPD_crash_1.xlsx',index=None)"
   ]
  },
  {
   "cell_type": "markdown",
   "id": "f694c7aa",
   "metadata": {},
   "source": [
    "# Inference"
   ]
  },
  {
   "cell_type": "code",
   "execution_count": 15,
   "id": "fef488ec",
   "metadata": {
    "ExecuteTime": {
     "end_time": "2025-06-04T12:54:20.850475Z",
     "start_time": "2025-06-04T12:54:20.758361Z"
    }
   },
   "outputs": [],
   "source": [
    "model.fit(data)"
   ]
  },
  {
   "cell_type": "code",
   "execution_count": 16,
   "id": "d3142398",
   "metadata": {
    "ExecuteTime": {
     "end_time": "2025-06-04T12:54:20.866417Z",
     "start_time": "2025-06-04T12:54:20.851373Z"
    }
   },
   "outputs": [],
   "source": [
    "from pgmpy.inference import VariableElimination\n",
    "inference = VariableElimination(model)"
   ]
  },
  {
   "cell_type": "code",
   "execution_count": 17,
   "id": "b5278b86",
   "metadata": {
    "ExecuteTime": {
     "end_time": "2025-06-04T12:54:20.881795Z",
     "start_time": "2025-06-04T12:54:20.867728Z"
    }
   },
   "outputs": [],
   "source": [
    "inference = inference.query(['time of week','daytime','weather','season','temperature','volume','crash'],joint=True)\n",
    "\n",
    "#User need to download the information using 'print'\n",
    "#print(inference)"
   ]
  },
  {
   "cell_type": "code",
   "execution_count": 18,
   "id": "2de4c4e8",
   "metadata": {
    "ExecuteTime": {
     "end_time": "2025-06-04T12:54:20.896949Z",
     "start_time": "2025-06-04T12:54:20.883071Z"
    }
   },
   "outputs": [
    {
     "data": {
      "text/plain": [
       "['time of week',\n",
       " 'daytime',\n",
       " 'weather',\n",
       " 'season',\n",
       " 'temperature',\n",
       " 'volume',\n",
       " 'crash']"
      ]
     },
     "execution_count": 18,
     "metadata": {},
     "output_type": "execute_result"
    }
   ],
   "source": [
    "inference.variables"
   ]
  },
  {
   "cell_type": "code",
   "execution_count": 19,
   "id": "eaaadbae",
   "metadata": {
    "ExecuteTime": {
     "end_time": "2025-06-04T12:54:20.912305Z",
     "start_time": "2025-06-04T12:54:20.898062Z"
    }
   },
   "outputs": [
    {
     "data": {
      "text/plain": [
       "array([3, 6, 5, 4, 3, 3, 2])"
      ]
     },
     "execution_count": 19,
     "metadata": {},
     "output_type": "execute_result"
    }
   ],
   "source": [
    "inference.cardinality"
   ]
  },
  {
   "cell_type": "code",
   "execution_count": 20,
   "id": "63b9e9c6",
   "metadata": {
    "ExecuteTime": {
     "end_time": "2025-06-04T12:54:20.927697Z",
     "start_time": "2025-06-04T12:54:20.913450Z"
    }
   },
   "outputs": [
    {
     "name": "stdout",
     "output_type": "stream",
     "text": [
      "<class 'numpy.ndarray'>\n",
      "(3, 6, 5, 4, 3, 3, 2)\n"
     ]
    }
   ],
   "source": [
    "infer_values = inference.values\n",
    "print(type(infer_values))\n",
    "print(infer_values.shape)\n",
    "infer_values = infer_values.reshape(3*6*5*4*3*3*2,1)\n",
    "#pd.DataFrame(infer_values).to_excel('inference_data.xlsx',index=None)"
   ]
  },
  {
   "cell_type": "code",
   "execution_count": 21,
   "id": "727f822d",
   "metadata": {
    "ExecuteTime": {
     "end_time": "2025-06-04T12:54:20.943441Z",
     "start_time": "2025-06-04T12:54:20.928721Z"
    }
   },
   "outputs": [],
   "source": [
    "infer_values = pd.DataFrame(infer_values)\n",
    "infer_values.columns = ['p']"
   ]
  },
  {
   "cell_type": "code",
   "execution_count": 22,
   "id": "da738f81",
   "metadata": {
    "ExecuteTime": {
     "end_time": "2025-06-04T12:54:20.974533Z",
     "start_time": "2025-06-04T12:54:20.944655Z"
    }
   },
   "outputs": [],
   "source": [
    "crash = [int(np.floor(i%2)) for i in range(len(infer_values))]\n",
    "infer_values = pd.concat([infer_values,pd.DataFrame(crash,columns=['crash'])],axis=1)"
   ]
  },
  {
   "cell_type": "code",
   "execution_count": 23,
   "id": "acd1c649",
   "metadata": {
    "ExecuteTime": {
     "end_time": "2025-06-04T12:54:21.005283Z",
     "start_time": "2025-06-04T12:54:20.975710Z"
    }
   },
   "outputs": [],
   "source": [
    "volume = [int(np.floor(i%(2*3))) for i in range(len(infer_values))]\n",
    "volume = [int(np.floor(i/2)) for i in volume]\n",
    "infer_values = pd.concat([infer_values,pd.DataFrame(volume,columns=['volume'])],axis=1)"
   ]
  },
  {
   "cell_type": "code",
   "execution_count": 24,
   "id": "80b2c0bf",
   "metadata": {
    "ExecuteTime": {
     "end_time": "2025-06-04T12:54:21.036863Z",
     "start_time": "2025-06-04T12:54:21.007600Z"
    }
   },
   "outputs": [],
   "source": [
    "temperature = [int(np.floor(i%(2*3*3))) for i in range(len(infer_values))]\n",
    "temperature = [int(np.floor(i/(2*3))) for i in temperature]\n",
    "infer_values = pd.concat([infer_values,pd.DataFrame(temperature,columns=['temperature'])],axis=1)"
   ]
  },
  {
   "cell_type": "code",
   "execution_count": 25,
   "id": "9665753e",
   "metadata": {
    "ExecuteTime": {
     "end_time": "2025-06-04T12:54:21.068850Z",
     "start_time": "2025-06-04T12:54:21.038030Z"
    }
   },
   "outputs": [],
   "source": [
    "season = [int(np.floor(i%(2*3*3*4))) for i in range(len(infer_values))]\n",
    "season = [int(np.floor(i/(2*3*3))) for i in season]\n",
    "infer_values = pd.concat([infer_values,pd.DataFrame(season,columns=['season'])],axis=1)"
   ]
  },
  {
   "cell_type": "code",
   "execution_count": 26,
   "id": "000d4392",
   "metadata": {
    "ExecuteTime": {
     "end_time": "2025-06-04T12:54:21.099340Z",
     "start_time": "2025-06-04T12:54:21.070179Z"
    }
   },
   "outputs": [],
   "source": [
    "weather = [int(np.floor(i%(2*3*3*4*5))) for i in range(len(infer_values))]\n",
    "weather = [int(np.floor(i/(2*3*3*4))) for i in weather]\n",
    "infer_values = pd.concat([infer_values,pd.DataFrame(weather,columns=['weather'])],axis=1)"
   ]
  },
  {
   "cell_type": "code",
   "execution_count": 27,
   "id": "7b3ebd61",
   "metadata": {
    "ExecuteTime": {
     "end_time": "2025-06-04T12:54:21.131428Z",
     "start_time": "2025-06-04T12:54:21.100798Z"
    }
   },
   "outputs": [],
   "source": [
    "daytime = [int(np.floor(i%(2*3*3*4*5*6))) for i in range(len(infer_values))]\n",
    "daytime = [int(np.floor(i/(2*3*3*4*5))) for i in daytime]\n",
    "infer_values = pd.concat([infer_values,pd.DataFrame(daytime,columns=['daytime'])],axis=1)"
   ]
  },
  {
   "cell_type": "code",
   "execution_count": 28,
   "id": "342c1716",
   "metadata": {
    "ExecuteTime": {
     "end_time": "2025-06-04T12:54:21.163395Z",
     "start_time": "2025-06-04T12:54:21.133596Z"
    }
   },
   "outputs": [],
   "source": [
    "time_of_week = [int(np.floor(i%(2*3*3*4*5*6*3))) for i in range(len(infer_values))]\n",
    "time_of_week = [int(np.floor(i/(2*3*3*4*5*6))) for i in time_of_week]\n",
    "infer_values = pd.concat([infer_values,pd.DataFrame(time_of_week,columns=['time of week'])],axis=1)"
   ]
  },
  {
   "cell_type": "code",
   "execution_count": 29,
   "id": "48fe2642",
   "metadata": {
    "ExecuteTime": {
     "end_time": "2025-06-04T12:54:21.179230Z",
     "start_time": "2025-06-04T12:54:21.164522Z"
    }
   },
   "outputs": [
    {
     "data": {
      "text/html": [
       "<div>\n",
       "<style scoped>\n",
       "    .dataframe tbody tr th:only-of-type {\n",
       "        vertical-align: middle;\n",
       "    }\n",
       "\n",
       "    .dataframe tbody tr th {\n",
       "        vertical-align: top;\n",
       "    }\n",
       "\n",
       "    .dataframe thead th {\n",
       "        text-align: right;\n",
       "    }\n",
       "</style>\n",
       "<table border=\"1\" class=\"dataframe\">\n",
       "  <thead>\n",
       "    <tr style=\"text-align: right;\">\n",
       "      <th></th>\n",
       "      <th>p</th>\n",
       "      <th>crash</th>\n",
       "      <th>volume</th>\n",
       "      <th>temperature</th>\n",
       "      <th>season</th>\n",
       "      <th>weather</th>\n",
       "      <th>daytime</th>\n",
       "      <th>time of week</th>\n",
       "    </tr>\n",
       "  </thead>\n",
       "  <tbody>\n",
       "    <tr>\n",
       "      <th>0</th>\n",
       "      <td>0.000403</td>\n",
       "      <td>0</td>\n",
       "      <td>0</td>\n",
       "      <td>0</td>\n",
       "      <td>0</td>\n",
       "      <td>0</td>\n",
       "      <td>0</td>\n",
       "      <td>0</td>\n",
       "    </tr>\n",
       "    <tr>\n",
       "      <th>1</th>\n",
       "      <td>0.000010</td>\n",
       "      <td>1</td>\n",
       "      <td>0</td>\n",
       "      <td>0</td>\n",
       "      <td>0</td>\n",
       "      <td>0</td>\n",
       "      <td>0</td>\n",
       "      <td>0</td>\n",
       "    </tr>\n",
       "    <tr>\n",
       "      <th>2</th>\n",
       "      <td>0.000222</td>\n",
       "      <td>0</td>\n",
       "      <td>1</td>\n",
       "      <td>0</td>\n",
       "      <td>0</td>\n",
       "      <td>0</td>\n",
       "      <td>0</td>\n",
       "      <td>0</td>\n",
       "    </tr>\n",
       "    <tr>\n",
       "      <th>3</th>\n",
       "      <td>0.000014</td>\n",
       "      <td>1</td>\n",
       "      <td>1</td>\n",
       "      <td>0</td>\n",
       "      <td>0</td>\n",
       "      <td>0</td>\n",
       "      <td>0</td>\n",
       "      <td>0</td>\n",
       "    </tr>\n",
       "    <tr>\n",
       "      <th>4</th>\n",
       "      <td>0.000197</td>\n",
       "      <td>0</td>\n",
       "      <td>2</td>\n",
       "      <td>0</td>\n",
       "      <td>0</td>\n",
       "      <td>0</td>\n",
       "      <td>0</td>\n",
       "      <td>0</td>\n",
       "    </tr>\n",
       "    <tr>\n",
       "      <th>...</th>\n",
       "      <td>...</td>\n",
       "      <td>...</td>\n",
       "      <td>...</td>\n",
       "      <td>...</td>\n",
       "      <td>...</td>\n",
       "      <td>...</td>\n",
       "      <td>...</td>\n",
       "      <td>...</td>\n",
       "    </tr>\n",
       "    <tr>\n",
       "      <th>6475</th>\n",
       "      <td>0.000000</td>\n",
       "      <td>1</td>\n",
       "      <td>0</td>\n",
       "      <td>2</td>\n",
       "      <td>3</td>\n",
       "      <td>4</td>\n",
       "      <td>5</td>\n",
       "      <td>2</td>\n",
       "    </tr>\n",
       "    <tr>\n",
       "      <th>6476</th>\n",
       "      <td>0.000000</td>\n",
       "      <td>0</td>\n",
       "      <td>1</td>\n",
       "      <td>2</td>\n",
       "      <td>3</td>\n",
       "      <td>4</td>\n",
       "      <td>5</td>\n",
       "      <td>2</td>\n",
       "    </tr>\n",
       "    <tr>\n",
       "      <th>6477</th>\n",
       "      <td>0.000000</td>\n",
       "      <td>1</td>\n",
       "      <td>1</td>\n",
       "      <td>2</td>\n",
       "      <td>3</td>\n",
       "      <td>4</td>\n",
       "      <td>5</td>\n",
       "      <td>2</td>\n",
       "    </tr>\n",
       "    <tr>\n",
       "      <th>6478</th>\n",
       "      <td>0.000000</td>\n",
       "      <td>0</td>\n",
       "      <td>2</td>\n",
       "      <td>2</td>\n",
       "      <td>3</td>\n",
       "      <td>4</td>\n",
       "      <td>5</td>\n",
       "      <td>2</td>\n",
       "    </tr>\n",
       "    <tr>\n",
       "      <th>6479</th>\n",
       "      <td>0.000000</td>\n",
       "      <td>1</td>\n",
       "      <td>2</td>\n",
       "      <td>2</td>\n",
       "      <td>3</td>\n",
       "      <td>4</td>\n",
       "      <td>5</td>\n",
       "      <td>2</td>\n",
       "    </tr>\n",
       "  </tbody>\n",
       "</table>\n",
       "<p>6480 rows × 8 columns</p>\n",
       "</div>"
      ],
      "text/plain": [
       "             p  crash  volume  temperature  season  weather  daytime  \\\n",
       "0     0.000403      0       0            0       0        0        0   \n",
       "1     0.000010      1       0            0       0        0        0   \n",
       "2     0.000222      0       1            0       0        0        0   \n",
       "3     0.000014      1       1            0       0        0        0   \n",
       "4     0.000197      0       2            0       0        0        0   \n",
       "...        ...    ...     ...          ...     ...      ...      ...   \n",
       "6475  0.000000      1       0            2       3        4        5   \n",
       "6476  0.000000      0       1            2       3        4        5   \n",
       "6477  0.000000      1       1            2       3        4        5   \n",
       "6478  0.000000      0       2            2       3        4        5   \n",
       "6479  0.000000      1       2            2       3        4        5   \n",
       "\n",
       "      time of week  \n",
       "0                0  \n",
       "1                0  \n",
       "2                0  \n",
       "3                0  \n",
       "4                0  \n",
       "...            ...  \n",
       "6475             2  \n",
       "6476             2  \n",
       "6477             2  \n",
       "6478             2  \n",
       "6479             2  \n",
       "\n",
       "[6480 rows x 8 columns]"
      ]
     },
     "execution_count": 29,
     "metadata": {},
     "output_type": "execute_result"
    }
   ],
   "source": [
    "infer_values"
   ]
  },
  {
   "cell_type": "code",
   "execution_count": 30,
   "id": "0250fa80",
   "metadata": {
    "ExecuteTime": {
     "end_time": "2025-06-04T12:54:21.241149Z",
     "start_time": "2025-06-04T12:54:21.180457Z"
    }
   },
   "outputs": [],
   "source": [
    "def cseason(x):\n",
    "    t = 0\n",
    "    if (x-0)<0.1:\n",
    "        t = 'autumn'\n",
    "    elif (x-1)<0.1:\n",
    "        t = 'spring'\n",
    "    elif (x-2)<0.1:\n",
    "        t = 'summer'\n",
    "    elif (x-3)<0.1:\n",
    "        t = 'winter'\n",
    "    return t\n",
    "infer_values['season'] = infer_values.apply(lambda infer_values:cseason(infer_values['season']),axis=1)"
   ]
  },
  {
   "cell_type": "code",
   "execution_count": 31,
   "id": "f722aefe",
   "metadata": {
    "ExecuteTime": {
     "end_time": "2025-06-04T12:54:21.303437Z",
     "start_time": "2025-06-04T12:54:21.245159Z"
    }
   },
   "outputs": [],
   "source": [
    "def cweather(x):\n",
    "    t = 0\n",
    "    if (x-0)<0.1:\n",
    "        t = 'cloudy'\n",
    "    elif (x-1)<0.1:\n",
    "        t = 'foggy'\n",
    "    elif (x-2)<0.1:\n",
    "        t = 'rainy'\n",
    "    elif (x-3)<0.1:\n",
    "        t = 'snowy'\n",
    "    elif (x-4)<0.1:\n",
    "        t = 'sunny'\n",
    "    return t\n",
    "infer_values['weather'] = infer_values.apply(lambda infer_values:cweather(infer_values['weather']),axis=1)"
   ]
  },
  {
   "cell_type": "code",
   "execution_count": 32,
   "id": "76c51ad3",
   "metadata": {
    "ExecuteTime": {
     "end_time": "2025-06-04T12:54:21.365108Z",
     "start_time": "2025-06-04T12:54:21.304606Z"
    }
   },
   "outputs": [],
   "source": [
    "def cdaytime(x):\n",
    "    t = 0\n",
    "    if (x-0)<0.1:\n",
    "        t = 'afternoon'\n",
    "    elif (x-1)<0.1:\n",
    "        t = 'dawn'\n",
    "    elif (x-2)<0.1:\n",
    "        t = 'evening'\n",
    "    elif (x-3)<0.1:\n",
    "        t = 'morning'\n",
    "    elif (x-4)<0.1:\n",
    "        t = 'night'\n",
    "    elif (x-5)<0.1:\n",
    "        t = 'noon'\n",
    "    return t\n",
    "infer_values['daytime'] = infer_values.apply(lambda infer_values:cdaytime(infer_values['daytime']),axis=1)"
   ]
  },
  {
   "cell_type": "code",
   "execution_count": 33,
   "id": "4ee24511",
   "metadata": {
    "ExecuteTime": {
     "end_time": "2025-06-04T12:54:21.381097Z",
     "start_time": "2025-06-04T12:54:21.366051Z"
    }
   },
   "outputs": [
    {
     "data": {
      "text/html": [
       "<div>\n",
       "<style scoped>\n",
       "    .dataframe tbody tr th:only-of-type {\n",
       "        vertical-align: middle;\n",
       "    }\n",
       "\n",
       "    .dataframe tbody tr th {\n",
       "        vertical-align: top;\n",
       "    }\n",
       "\n",
       "    .dataframe thead th {\n",
       "        text-align: right;\n",
       "    }\n",
       "</style>\n",
       "<table border=\"1\" class=\"dataframe\">\n",
       "  <thead>\n",
       "    <tr style=\"text-align: right;\">\n",
       "      <th></th>\n",
       "      <th>p</th>\n",
       "      <th>crash</th>\n",
       "      <th>volume</th>\n",
       "      <th>temperature</th>\n",
       "      <th>season</th>\n",
       "      <th>weather</th>\n",
       "      <th>daytime</th>\n",
       "      <th>time of week</th>\n",
       "    </tr>\n",
       "  </thead>\n",
       "  <tbody>\n",
       "    <tr>\n",
       "      <th>0</th>\n",
       "      <td>0.000403</td>\n",
       "      <td>0</td>\n",
       "      <td>0</td>\n",
       "      <td>0</td>\n",
       "      <td>autumn</td>\n",
       "      <td>cloudy</td>\n",
       "      <td>afternoon</td>\n",
       "      <td>0</td>\n",
       "    </tr>\n",
       "  </tbody>\n",
       "</table>\n",
       "</div>"
      ],
      "text/plain": [
       "          p  crash  volume  temperature  season weather    daytime  \\\n",
       "0  0.000403      0       0            0  autumn  cloudy  afternoon   \n",
       "\n",
       "   time of week  \n",
       "0             0  "
      ]
     },
     "execution_count": 33,
     "metadata": {},
     "output_type": "execute_result"
    }
   ],
   "source": [
    "infer_values.head(1)"
   ]
  },
  {
   "cell_type": "code",
   "execution_count": 34,
   "id": "2c6c824d",
   "metadata": {
    "ExecuteTime": {
     "end_time": "2025-06-04T12:54:22.223638Z",
     "start_time": "2025-06-04T12:54:21.382065Z"
    }
   },
   "outputs": [],
   "source": [
    "infer_values.to_excel('inference data.xlsx',index=None)"
   ]
  },
  {
   "cell_type": "code",
   "execution_count": null,
   "id": "d681fd8d",
   "metadata": {},
   "outputs": [],
   "source": []
  }
 ],
 "metadata": {
  "kernelspec": {
   "display_name": "Python 3 (ipykernel)",
   "language": "python",
   "name": "python3"
  },
  "language_info": {
   "codemirror_mode": {
    "name": "ipython",
    "version": 3
   },
   "file_extension": ".py",
   "mimetype": "text/x-python",
   "name": "python",
   "nbconvert_exporter": "python",
   "pygments_lexer": "ipython3",
   "version": "3.9.12"
  },
  "toc": {
   "base_numbering": 1,
   "nav_menu": {},
   "number_sections": true,
   "sideBar": true,
   "skip_h1_title": false,
   "title_cell": "Table of Contents",
   "title_sidebar": "Contents",
   "toc_cell": false,
   "toc_position": {},
   "toc_section_display": true,
   "toc_window_display": false
  }
 },
 "nbformat": 4,
 "nbformat_minor": 5
}
