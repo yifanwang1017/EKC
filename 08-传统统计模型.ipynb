{
 "cells": [
  {
   "cell_type": "code",
   "execution_count": 1,
   "id": "bfcee7bd",
   "metadata": {
    "ExecuteTime": {
     "end_time": "2024-06-21T05:05:23.993899Z",
     "start_time": "2024-06-21T05:05:23.312957Z"
    }
   },
   "outputs": [],
   "source": [
    "import pandas as pd\n",
    "import numpy as np"
   ]
  },
  {
   "cell_type": "code",
   "execution_count": 2,
   "id": "1ce3d676",
   "metadata": {
    "ExecuteTime": {
     "end_time": "2024-06-21T05:05:27.803052Z",
     "start_time": "2024-06-21T05:05:23.996891Z"
    }
   },
   "outputs": [
    {
     "data": {
      "text/html": [
       "<div>\n",
       "<style scoped>\n",
       "    .dataframe tbody tr th:only-of-type {\n",
       "        vertical-align: middle;\n",
       "    }\n",
       "\n",
       "    .dataframe tbody tr th {\n",
       "        vertical-align: top;\n",
       "    }\n",
       "\n",
       "    .dataframe thead th {\n",
       "        text-align: right;\n",
       "    }\n",
       "</style>\n",
       "<table border=\"1\" class=\"dataframe\">\n",
       "  <thead>\n",
       "    <tr style=\"text-align: right;\">\n",
       "      <th></th>\n",
       "      <th>crash</th>\n",
       "      <th>time of week</th>\n",
       "      <th>weather</th>\n",
       "      <th>volume</th>\n",
       "      <th>temperature</th>\n",
       "      <th>daytime</th>\n",
       "      <th>season</th>\n",
       "    </tr>\n",
       "  </thead>\n",
       "  <tbody>\n",
       "    <tr>\n",
       "      <th>0</th>\n",
       "      <td>1</td>\n",
       "      <td>1</td>\n",
       "      <td>cloudy</td>\n",
       "      <td>0</td>\n",
       "      <td>0</td>\n",
       "      <td>afternoon</td>\n",
       "      <td>winter</td>\n",
       "    </tr>\n",
       "    <tr>\n",
       "      <th>1</th>\n",
       "      <td>1</td>\n",
       "      <td>1</td>\n",
       "      <td>cloudy</td>\n",
       "      <td>0</td>\n",
       "      <td>0</td>\n",
       "      <td>afternoon</td>\n",
       "      <td>winter</td>\n",
       "    </tr>\n",
       "  </tbody>\n",
       "</table>\n",
       "</div>"
      ],
      "text/plain": [
       "   crash  time of week weather  volume  temperature    daytime  season\n",
       "0      1             1  cloudy       0            0  afternoon  winter\n",
       "1      1             1  cloudy       0            0  afternoon  winter"
      ]
     },
     "execution_count": 2,
     "metadata": {},
     "output_type": "execute_result"
    }
   ],
   "source": [
    "data = pd.read_excel('模型数据.xlsx')\n",
    "data.head(2)"
   ]
  },
  {
   "cell_type": "code",
   "execution_count": 3,
   "id": "08f1beac",
   "metadata": {
    "ExecuteTime": {
     "end_time": "2024-06-21T05:05:28.054041Z",
     "start_time": "2024-06-21T05:05:27.804078Z"
    }
   },
   "outputs": [
    {
     "data": {
      "text/html": [
       "<div>\n",
       "<style scoped>\n",
       "    .dataframe tbody tr th:only-of-type {\n",
       "        vertical-align: middle;\n",
       "    }\n",
       "\n",
       "    .dataframe tbody tr th {\n",
       "        vertical-align: top;\n",
       "    }\n",
       "\n",
       "    .dataframe thead th {\n",
       "        text-align: right;\n",
       "    }\n",
       "</style>\n",
       "<table border=\"1\" class=\"dataframe\">\n",
       "  <thead>\n",
       "    <tr style=\"text-align: right;\">\n",
       "      <th></th>\n",
       "      <th>crash</th>\n",
       "      <th>time of week</th>\n",
       "      <th>weather</th>\n",
       "      <th>volume</th>\n",
       "      <th>temperature</th>\n",
       "      <th>daytime</th>\n",
       "      <th>season</th>\n",
       "    </tr>\n",
       "  </thead>\n",
       "  <tbody>\n",
       "    <tr>\n",
       "      <th>0</th>\n",
       "      <td>1</td>\n",
       "      <td>1</td>\n",
       "      <td>1</td>\n",
       "      <td>0</td>\n",
       "      <td>0</td>\n",
       "      <td>afternoon</td>\n",
       "      <td>winter</td>\n",
       "    </tr>\n",
       "    <tr>\n",
       "      <th>1</th>\n",
       "      <td>1</td>\n",
       "      <td>1</td>\n",
       "      <td>1</td>\n",
       "      <td>0</td>\n",
       "      <td>0</td>\n",
       "      <td>afternoon</td>\n",
       "      <td>winter</td>\n",
       "    </tr>\n",
       "  </tbody>\n",
       "</table>\n",
       "</div>"
      ],
      "text/plain": [
       "   crash  time of week  weather  volume  temperature    daytime  season\n",
       "0      1             1        1       0            0  afternoon  winter\n",
       "1      1             1        1       0            0  afternoon  winter"
      ]
     },
     "execution_count": 3,
     "metadata": {},
     "output_type": "execute_result"
    }
   ],
   "source": [
    "def weather(x):\n",
    "    t=0\n",
    "    if x == 'sunny':\n",
    "        t = 0\n",
    "    elif x == 'cloudy':\n",
    "        t = 1\n",
    "    elif x == 'foggy':\n",
    "        t = 2\n",
    "    elif x == 'rainy':\n",
    "        t = 3\n",
    "    elif x == 'snowy':\n",
    "        t = 4\n",
    "    return t\n",
    "data['weather'] = data.apply(lambda data:weather(data['weather']),axis=1)\n",
    "data.head(2)"
   ]
  },
  {
   "cell_type": "code",
   "execution_count": 4,
   "id": "a1cbf884",
   "metadata": {
    "ExecuteTime": {
     "end_time": "2024-06-21T05:05:28.304647Z",
     "start_time": "2024-06-21T05:05:28.056044Z"
    }
   },
   "outputs": [
    {
     "data": {
      "text/html": [
       "<div>\n",
       "<style scoped>\n",
       "    .dataframe tbody tr th:only-of-type {\n",
       "        vertical-align: middle;\n",
       "    }\n",
       "\n",
       "    .dataframe tbody tr th {\n",
       "        vertical-align: top;\n",
       "    }\n",
       "\n",
       "    .dataframe thead th {\n",
       "        text-align: right;\n",
       "    }\n",
       "</style>\n",
       "<table border=\"1\" class=\"dataframe\">\n",
       "  <thead>\n",
       "    <tr style=\"text-align: right;\">\n",
       "      <th></th>\n",
       "      <th>crash</th>\n",
       "      <th>time of week</th>\n",
       "      <th>weather</th>\n",
       "      <th>volume</th>\n",
       "      <th>temperature</th>\n",
       "      <th>daytime</th>\n",
       "      <th>season</th>\n",
       "    </tr>\n",
       "  </thead>\n",
       "  <tbody>\n",
       "    <tr>\n",
       "      <th>0</th>\n",
       "      <td>1</td>\n",
       "      <td>1</td>\n",
       "      <td>1</td>\n",
       "      <td>0</td>\n",
       "      <td>0</td>\n",
       "      <td>3</td>\n",
       "      <td>winter</td>\n",
       "    </tr>\n",
       "    <tr>\n",
       "      <th>1</th>\n",
       "      <td>1</td>\n",
       "      <td>1</td>\n",
       "      <td>1</td>\n",
       "      <td>0</td>\n",
       "      <td>0</td>\n",
       "      <td>3</td>\n",
       "      <td>winter</td>\n",
       "    </tr>\n",
       "  </tbody>\n",
       "</table>\n",
       "</div>"
      ],
      "text/plain": [
       "   crash  time of week  weather  volume  temperature  daytime  season\n",
       "0      1             1        1       0            0        3  winter\n",
       "1      1             1        1       0            0        3  winter"
      ]
     },
     "execution_count": 4,
     "metadata": {},
     "output_type": "execute_result"
    }
   ],
   "source": [
    "def daytime(x):\n",
    "    t=0\n",
    "    if x == 'dawn':\n",
    "        t = 0\n",
    "    elif x == 'morning':\n",
    "        t = 1\n",
    "    elif x == 'noon':\n",
    "        t = 2\n",
    "    elif x == 'afternoon':\n",
    "        t = 3\n",
    "    elif x == 'evening':\n",
    "        t = 4\n",
    "    elif x == 'night':\n",
    "        t = 5\n",
    "    return t\n",
    "data['daytime'] = data.apply(lambda data:daytime(data['daytime']),axis=1)\n",
    "data.head(2)"
   ]
  },
  {
   "cell_type": "code",
   "execution_count": 5,
   "id": "2eca8673",
   "metadata": {
    "ExecuteTime": {
     "end_time": "2024-06-21T05:05:28.564738Z",
     "start_time": "2024-06-21T05:05:28.305649Z"
    }
   },
   "outputs": [
    {
     "data": {
      "text/html": [
       "<div>\n",
       "<style scoped>\n",
       "    .dataframe tbody tr th:only-of-type {\n",
       "        vertical-align: middle;\n",
       "    }\n",
       "\n",
       "    .dataframe tbody tr th {\n",
       "        vertical-align: top;\n",
       "    }\n",
       "\n",
       "    .dataframe thead th {\n",
       "        text-align: right;\n",
       "    }\n",
       "</style>\n",
       "<table border=\"1\" class=\"dataframe\">\n",
       "  <thead>\n",
       "    <tr style=\"text-align: right;\">\n",
       "      <th></th>\n",
       "      <th>crash</th>\n",
       "      <th>time of week</th>\n",
       "      <th>weather</th>\n",
       "      <th>volume</th>\n",
       "      <th>temperature</th>\n",
       "      <th>daytime</th>\n",
       "      <th>season</th>\n",
       "    </tr>\n",
       "  </thead>\n",
       "  <tbody>\n",
       "    <tr>\n",
       "      <th>0</th>\n",
       "      <td>1</td>\n",
       "      <td>1</td>\n",
       "      <td>1</td>\n",
       "      <td>0</td>\n",
       "      <td>0</td>\n",
       "      <td>3</td>\n",
       "      <td>3</td>\n",
       "    </tr>\n",
       "    <tr>\n",
       "      <th>1</th>\n",
       "      <td>1</td>\n",
       "      <td>1</td>\n",
       "      <td>1</td>\n",
       "      <td>0</td>\n",
       "      <td>0</td>\n",
       "      <td>3</td>\n",
       "      <td>3</td>\n",
       "    </tr>\n",
       "  </tbody>\n",
       "</table>\n",
       "</div>"
      ],
      "text/plain": [
       "   crash  time of week  weather  volume  temperature  daytime  season\n",
       "0      1             1        1       0            0        3       3\n",
       "1      1             1        1       0            0        3       3"
      ]
     },
     "execution_count": 5,
     "metadata": {},
     "output_type": "execute_result"
    }
   ],
   "source": [
    "def season(x):\n",
    "    t=0\n",
    "    if x == 'spring':\n",
    "        t = 0\n",
    "    elif x == 'summer':\n",
    "        t = 1\n",
    "    elif x == 'autumn':\n",
    "        t = 2\n",
    "    elif x == 'winter':\n",
    "        t = 3\n",
    "    return t\n",
    "data['season'] = data.apply(lambda data:season(data['season']),axis=1)\n",
    "data.head(2)"
   ]
  },
  {
   "cell_type": "code",
   "execution_count": 6,
   "id": "9525e447",
   "metadata": {
    "ExecuteTime": {
     "end_time": "2024-06-21T05:06:16.898054Z",
     "start_time": "2024-06-21T05:06:16.793713Z"
    }
   },
   "outputs": [],
   "source": [
    "data.to_csv('模型数据_传统统计.csv')"
   ]
  },
  {
   "cell_type": "code",
   "execution_count": null,
   "id": "b1a6c37f",
   "metadata": {},
   "outputs": [],
   "source": []
  }
 ],
 "metadata": {
  "kernelspec": {
   "display_name": "Python 3 (ipykernel)",
   "language": "python",
   "name": "python3"
  },
  "language_info": {
   "codemirror_mode": {
    "name": "ipython",
    "version": 3
   },
   "file_extension": ".py",
   "mimetype": "text/x-python",
   "name": "python",
   "nbconvert_exporter": "python",
   "pygments_lexer": "ipython3",
   "version": "3.9.12"
  },
  "toc": {
   "base_numbering": 1,
   "nav_menu": {},
   "number_sections": true,
   "sideBar": true,
   "skip_h1_title": false,
   "title_cell": "Table of Contents",
   "title_sidebar": "Contents",
   "toc_cell": false,
   "toc_position": {},
   "toc_section_display": true,
   "toc_window_display": false
  }
 },
 "nbformat": 4,
 "nbformat_minor": 5
}
