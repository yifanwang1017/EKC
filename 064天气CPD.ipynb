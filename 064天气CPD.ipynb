{
 "cells": [
  {
   "cell_type": "code",
   "execution_count": 1,
   "id": "a993de67",
   "metadata": {
    "ExecuteTime": {
     "end_time": "2024-04-07T08:05:16.186424Z",
     "start_time": "2024-04-07T08:05:13.815205Z"
    }
   },
   "outputs": [],
   "source": [
    "import pandas as pd\n",
    "import numpy as np"
   ]
  },
  {
   "cell_type": "code",
   "execution_count": 2,
   "id": "4a9df5ac",
   "metadata": {
    "ExecuteTime": {
     "end_time": "2024-04-07T08:05:20.884044Z",
     "start_time": "2024-04-07T08:05:16.187179Z"
    }
   },
   "outputs": [
    {
     "data": {
      "text/html": [
       "<div>\n",
       "<style scoped>\n",
       "    .dataframe tbody tr th:only-of-type {\n",
       "        vertical-align: middle;\n",
       "    }\n",
       "\n",
       "    .dataframe tbody tr th {\n",
       "        vertical-align: top;\n",
       "    }\n",
       "\n",
       "    .dataframe thead th {\n",
       "        text-align: right;\n",
       "    }\n",
       "</style>\n",
       "<table border=\"1\" class=\"dataframe\">\n",
       "  <thead>\n",
       "    <tr style=\"text-align: right;\">\n",
       "      <th></th>\n",
       "      <th>crash</th>\n",
       "      <th>time of week</th>\n",
       "      <th>weather</th>\n",
       "      <th>volume</th>\n",
       "      <th>temperature</th>\n",
       "      <th>daytime</th>\n",
       "      <th>season</th>\n",
       "    </tr>\n",
       "  </thead>\n",
       "  <tbody>\n",
       "    <tr>\n",
       "      <th>0</th>\n",
       "      <td>1</td>\n",
       "      <td>1</td>\n",
       "      <td>cloudy</td>\n",
       "      <td>0</td>\n",
       "      <td>0</td>\n",
       "      <td>afternoon</td>\n",
       "      <td>winter</td>\n",
       "    </tr>\n",
       "    <tr>\n",
       "      <th>1</th>\n",
       "      <td>1</td>\n",
       "      <td>1</td>\n",
       "      <td>cloudy</td>\n",
       "      <td>0</td>\n",
       "      <td>0</td>\n",
       "      <td>afternoon</td>\n",
       "      <td>winter</td>\n",
       "    </tr>\n",
       "  </tbody>\n",
       "</table>\n",
       "</div>"
      ],
      "text/plain": [
       "   crash  time of week weather  volume  temperature    daytime  season\n",
       "0      1             1  cloudy       0            0  afternoon  winter\n",
       "1      1             1  cloudy       0            0  afternoon  winter"
      ]
     },
     "execution_count": 2,
     "metadata": {},
     "output_type": "execute_result"
    }
   ],
   "source": [
    "data = pd.read_excel('模型数据.xlsx')\n",
    "data.head(2)"
   ]
  },
  {
   "cell_type": "code",
   "execution_count": 3,
   "id": "2a2762f2",
   "metadata": {
    "ExecuteTime": {
     "end_time": "2024-04-07T08:05:34.248059Z",
     "start_time": "2024-04-07T08:05:20.886040Z"
    }
   },
   "outputs": [],
   "source": [
    "from pgmpy.models import BayesianNetwork\n",
    "model = BayesianNetwork([('time of week', 'temperature'),('time of week','volume'),\n",
    "                         ('daytime','temperature'),('daytime','volume'),\n",
    "                         ('season','temperature'),('season','volume'),('season','weather'),\n",
    "                         ('weather','temperature'),('weather','volume'),('weather','crash'),\n",
    "                         ('temperature','crash'),\n",
    "                         ('volume','crash')])"
   ]
  },
  {
   "cell_type": "code",
   "execution_count": 4,
   "id": "14e5e65a",
   "metadata": {
    "ExecuteTime": {
     "end_time": "2024-04-07T08:05:39.675321Z",
     "start_time": "2024-04-07T08:05:34.250055Z"
    }
   },
   "outputs": [],
   "source": [
    "from pgmpy.estimators import BayesianEstimator, MaximumLikelihoodEstimator\n",
    "estimator = MaximumLikelihoodEstimator(model, data)"
   ]
  },
  {
   "cell_type": "code",
   "execution_count": 5,
   "id": "93a957fa",
   "metadata": {
    "ExecuteTime": {
     "end_time": "2024-04-07T08:05:39.797201Z",
     "start_time": "2024-04-07T08:05:39.676316Z"
    }
   },
   "outputs": [
    {
     "name": "stdout",
     "output_type": "stream",
     "text": [
      "['weather', 'season']\n",
      "[5 4]\n"
     ]
    },
    {
     "data": {
      "text/html": [
       "<div>\n",
       "<style scoped>\n",
       "    .dataframe tbody tr th:only-of-type {\n",
       "        vertical-align: middle;\n",
       "    }\n",
       "\n",
       "    .dataframe tbody tr th {\n",
       "        vertical-align: top;\n",
       "    }\n",
       "\n",
       "    .dataframe thead th {\n",
       "        text-align: right;\n",
       "    }\n",
       "</style>\n",
       "<table border=\"1\" class=\"dataframe\">\n",
       "  <thead>\n",
       "    <tr style=\"text-align: right;\">\n",
       "      <th></th>\n",
       "      <th>0</th>\n",
       "      <th>1</th>\n",
       "      <th>2</th>\n",
       "      <th>3</th>\n",
       "    </tr>\n",
       "  </thead>\n",
       "  <tbody>\n",
       "    <tr>\n",
       "      <th>0</th>\n",
       "      <td>0.444488</td>\n",
       "      <td>0.693354</td>\n",
       "      <td>0.704821</td>\n",
       "      <td>0.654687</td>\n",
       "    </tr>\n",
       "    <tr>\n",
       "      <th>1</th>\n",
       "      <td>0.292151</td>\n",
       "      <td>0.000000</td>\n",
       "      <td>0.028292</td>\n",
       "      <td>0.104098</td>\n",
       "    </tr>\n",
       "    <tr>\n",
       "      <th>2</th>\n",
       "      <td>0.168507</td>\n",
       "      <td>0.111801</td>\n",
       "      <td>0.169987</td>\n",
       "      <td>0.029919</td>\n",
       "    </tr>\n",
       "    <tr>\n",
       "      <th>3</th>\n",
       "      <td>0.000000</td>\n",
       "      <td>0.000000</td>\n",
       "      <td>0.000000</td>\n",
       "      <td>0.033549</td>\n",
       "    </tr>\n",
       "    <tr>\n",
       "      <th>4</th>\n",
       "      <td>0.094853</td>\n",
       "      <td>0.194845</td>\n",
       "      <td>0.096900</td>\n",
       "      <td>0.177746</td>\n",
       "    </tr>\n",
       "  </tbody>\n",
       "</table>\n",
       "</div>"
      ],
      "text/plain": [
       "          0         1         2         3\n",
       "0  0.444488  0.693354  0.704821  0.654687\n",
       "1  0.292151  0.000000  0.028292  0.104098\n",
       "2  0.168507  0.111801  0.169987  0.029919\n",
       "3  0.000000  0.000000  0.000000  0.033549\n",
       "4  0.094853  0.194845  0.096900  0.177746"
      ]
     },
     "execution_count": 5,
     "metadata": {},
     "output_type": "execute_result"
    }
   ],
   "source": [
    "cpd = estimator.estimate_cpd('weather')\n",
    "print(cpd.variables)\n",
    "print(cpd.cardinality)\n",
    "pd.DataFrame(cpd.get_values())"
   ]
  },
  {
   "cell_type": "code",
   "execution_count": 6,
   "id": "c9fcbcd4",
   "metadata": {
    "ExecuteTime": {
     "end_time": "2024-04-07T08:05:39.812532Z",
     "start_time": "2024-04-07T08:05:39.798197Z"
    }
   },
   "outputs": [],
   "source": [
    "cpd_matric = pd.DataFrame(cpd.get_values())\n",
    "column_num = cpd_matric.shape[1]\n",
    "CPD = pd.DataFrame()"
   ]
  },
  {
   "cell_type": "code",
   "execution_count": 7,
   "id": "9ac3e47b",
   "metadata": {
    "ExecuteTime": {
     "end_time": "2024-04-07T08:05:39.827521Z",
     "start_time": "2024-04-07T08:05:39.813533Z"
    }
   },
   "outputs": [],
   "source": [
    "k=0\n",
    "list0 = np.array([])\n",
    "list1 = np.array([])\n",
    "list2 = np.array([])\n",
    "list3 = np.array([])\n",
    "\n",
    "large_unit = 0\n",
    "unit = int(column_num/cpd.cardinality[1])\n",
    "for i in range(cpd.cardinality[1]):\n",
    "    list0 = np.append(list0,np.linspace(int(i*large_unit + 0*unit),int(i*large_unit+ 1*unit)-1,int(unit))).astype(int)\n",
    "    list1 = np.append(list1,np.linspace(int(i*large_unit + 1*unit),int(i*large_unit+ 2*unit)-1,int(unit))).astype(int)\n",
    "    list2 = np.append(list2,np.linspace(int(i*large_unit + 2*unit),int(i*large_unit+ 3*unit)-1,int(unit))).astype(int)\n",
    "    list3 = np.append(list3,np.linspace(int(i*large_unit + 3*unit),int(i*large_unit+ 4*unit)-1,int(unit))).astype(int)\n",
    "\n",
    "t0 = np.array([])\n",
    "for i in list0:\n",
    "    t0 = np.append(t0,cpd_matric[i][k])\n",
    "\n",
    "t1 = np.array([])\n",
    "for i in list1:\n",
    "    t1 = np.append(t1,cpd_matric[i][k])\n",
    "\n",
    "t2 = np.array([])\n",
    "for i in list2:\n",
    "    t2 = np.append(t2,cpd_matric[i][k])\n",
    "\n",
    "t3 = np.array([])\n",
    "for i in list3:\n",
    "    t3 = np.append(t3,cpd_matric[i][k])\n",
    "\n",
    "CPD['weather_'+str(k)+'_season_0'] = pd.DataFrame(t0)\n",
    "CPD['weather_'+str(k)+'_season_1'] = pd.DataFrame(t1)\n",
    "CPD['weather_'+str(k)+'_season_2'] = pd.DataFrame(t2)\n",
    "CPD['weather_'+str(k)+'_season_3'] = pd.DataFrame(t3)"
   ]
  },
  {
   "cell_type": "code",
   "execution_count": 8,
   "id": "fcb8c49e",
   "metadata": {
    "ExecuteTime": {
     "end_time": "2024-04-07T08:05:39.842451Z",
     "start_time": "2024-04-07T08:05:39.828489Z"
    }
   },
   "outputs": [],
   "source": [
    "k=1\n",
    "list0 = np.array([])\n",
    "list1 = np.array([])\n",
    "list2 = np.array([])\n",
    "list3 = np.array([])\n",
    "\n",
    "large_unit = 0\n",
    "unit = int(column_num/cpd.cardinality[1])\n",
    "for i in range(cpd.cardinality[1]):\n",
    "    list0 = np.append(list0,np.linspace(int(i*large_unit + 0*unit),int(i*large_unit+ 1*unit)-1,int(unit))).astype(int)\n",
    "    list1 = np.append(list1,np.linspace(int(i*large_unit + 1*unit),int(i*large_unit+ 2*unit)-1,int(unit))).astype(int)\n",
    "    list2 = np.append(list2,np.linspace(int(i*large_unit + 2*unit),int(i*large_unit+ 3*unit)-1,int(unit))).astype(int)\n",
    "    list3 = np.append(list3,np.linspace(int(i*large_unit + 3*unit),int(i*large_unit+ 4*unit)-1,int(unit))).astype(int)\n",
    "\n",
    "t0 = np.array([])\n",
    "for i in list0:\n",
    "    t0 = np.append(t0,cpd_matric[i][k])\n",
    "\n",
    "t1 = np.array([])\n",
    "for i in list1:\n",
    "    t1 = np.append(t1,cpd_matric[i][k])\n",
    "\n",
    "t2 = np.array([])\n",
    "for i in list2:\n",
    "    t2 = np.append(t2,cpd_matric[i][k])\n",
    "\n",
    "t3 = np.array([])\n",
    "for i in list3:\n",
    "    t3 = np.append(t3,cpd_matric[i][k])\n",
    "\n",
    "CPD['weather_'+str(k)+'_season_0'] = pd.DataFrame(t0)\n",
    "CPD['weather_'+str(k)+'_season_1'] = pd.DataFrame(t1)\n",
    "CPD['weather_'+str(k)+'_season_2'] = pd.DataFrame(t2)\n",
    "CPD['weather_'+str(k)+'_season_3'] = pd.DataFrame(t3)"
   ]
  },
  {
   "cell_type": "code",
   "execution_count": 9,
   "id": "9a1d8a45",
   "metadata": {
    "ExecuteTime": {
     "end_time": "2024-04-07T08:05:39.858434Z",
     "start_time": "2024-04-07T08:05:39.843448Z"
    }
   },
   "outputs": [],
   "source": [
    "k=2\n",
    "list0 = np.array([])\n",
    "list1 = np.array([])\n",
    "list2 = np.array([])\n",
    "list3 = np.array([])\n",
    "\n",
    "large_unit = 0\n",
    "unit = int(column_num/cpd.cardinality[1])\n",
    "for i in range(cpd.cardinality[1]):\n",
    "    list0 = np.append(list0,np.linspace(int(i*large_unit + 0*unit),int(i*large_unit+ 1*unit)-1,int(unit))).astype(int)\n",
    "    list1 = np.append(list1,np.linspace(int(i*large_unit + 1*unit),int(i*large_unit+ 2*unit)-1,int(unit))).astype(int)\n",
    "    list2 = np.append(list2,np.linspace(int(i*large_unit + 2*unit),int(i*large_unit+ 3*unit)-1,int(unit))).astype(int)\n",
    "    list3 = np.append(list3,np.linspace(int(i*large_unit + 3*unit),int(i*large_unit+ 4*unit)-1,int(unit))).astype(int)\n",
    "\n",
    "t0 = np.array([])\n",
    "for i in list0:\n",
    "    t0 = np.append(t0,cpd_matric[i][k])\n",
    "\n",
    "t1 = np.array([])\n",
    "for i in list1:\n",
    "    t1 = np.append(t1,cpd_matric[i][k])\n",
    "\n",
    "t2 = np.array([])\n",
    "for i in list2:\n",
    "    t2 = np.append(t2,cpd_matric[i][k])\n",
    "\n",
    "t3 = np.array([])\n",
    "for i in list3:\n",
    "    t3 = np.append(t3,cpd_matric[i][k])\n",
    "\n",
    "CPD['weather_'+str(k)+'_season_0'] = pd.DataFrame(t0)\n",
    "CPD['weather_'+str(k)+'_season_1'] = pd.DataFrame(t1)\n",
    "CPD['weather_'+str(k)+'_season_2'] = pd.DataFrame(t2)\n",
    "CPD['weather_'+str(k)+'_season_3'] = pd.DataFrame(t3)"
   ]
  },
  {
   "cell_type": "code",
   "execution_count": 10,
   "id": "b9a2442e",
   "metadata": {
    "ExecuteTime": {
     "end_time": "2024-04-07T08:05:39.889360Z",
     "start_time": "2024-04-07T08:05:39.860403Z"
    }
   },
   "outputs": [],
   "source": [
    "k=3\n",
    "list0 = np.array([])\n",
    "list1 = np.array([])\n",
    "list2 = np.array([])\n",
    "list3 = np.array([])\n",
    "\n",
    "large_unit = 0\n",
    "unit = int(column_num/cpd.cardinality[1])\n",
    "for i in range(cpd.cardinality[1]):\n",
    "    list0 = np.append(list0,np.linspace(int(i*large_unit + 0*unit),int(i*large_unit+ 1*unit)-1,int(unit))).astype(int)\n",
    "    list1 = np.append(list1,np.linspace(int(i*large_unit + 1*unit),int(i*large_unit+ 2*unit)-1,int(unit))).astype(int)\n",
    "    list2 = np.append(list2,np.linspace(int(i*large_unit + 2*unit),int(i*large_unit+ 3*unit)-1,int(unit))).astype(int)\n",
    "    list3 = np.append(list3,np.linspace(int(i*large_unit + 3*unit),int(i*large_unit+ 4*unit)-1,int(unit))).astype(int)\n",
    "\n",
    "t0 = np.array([])\n",
    "for i in list0:\n",
    "    t0 = np.append(t0,cpd_matric[i][k])\n",
    "\n",
    "t1 = np.array([])\n",
    "for i in list1:\n",
    "    t1 = np.append(t1,cpd_matric[i][k])\n",
    "\n",
    "t2 = np.array([])\n",
    "for i in list2:\n",
    "    t2 = np.append(t2,cpd_matric[i][k])\n",
    "\n",
    "t3 = np.array([])\n",
    "for i in list3:\n",
    "    t3 = np.append(t3,cpd_matric[i][k])\n",
    "\n",
    "CPD['weather_'+str(k)+'_season_0'] = pd.DataFrame(t0)\n",
    "CPD['weather_'+str(k)+'_season_1'] = pd.DataFrame(t1)\n",
    "CPD['weather_'+str(k)+'_season_2'] = pd.DataFrame(t2)\n",
    "CPD['weather_'+str(k)+'_season_3'] = pd.DataFrame(t3)"
   ]
  },
  {
   "cell_type": "code",
   "execution_count": 11,
   "id": "e8896675",
   "metadata": {
    "ExecuteTime": {
     "end_time": "2024-04-07T08:05:39.904884Z",
     "start_time": "2024-04-07T08:05:39.890060Z"
    }
   },
   "outputs": [],
   "source": [
    "k=4\n",
    "list0 = np.array([])\n",
    "list1 = np.array([])\n",
    "list2 = np.array([])\n",
    "list3 = np.array([])\n",
    "\n",
    "large_unit = 0\n",
    "unit = int(column_num/cpd.cardinality[1])\n",
    "for i in range(cpd.cardinality[1]):\n",
    "    list0 = np.append(list0,np.linspace(int(i*large_unit + 0*unit),int(i*large_unit+ 1*unit)-1,int(unit))).astype(int)\n",
    "    list1 = np.append(list1,np.linspace(int(i*large_unit + 1*unit),int(i*large_unit+ 2*unit)-1,int(unit))).astype(int)\n",
    "    list2 = np.append(list2,np.linspace(int(i*large_unit + 2*unit),int(i*large_unit+ 3*unit)-1,int(unit))).astype(int)\n",
    "    list3 = np.append(list3,np.linspace(int(i*large_unit + 3*unit),int(i*large_unit+ 4*unit)-1,int(unit))).astype(int)\n",
    "\n",
    "t0 = np.array([])\n",
    "for i in list0:\n",
    "    t0 = np.append(t0,cpd_matric[i][k])\n",
    "\n",
    "t1 = np.array([])\n",
    "for i in list1:\n",
    "    t1 = np.append(t1,cpd_matric[i][k])\n",
    "\n",
    "t2 = np.array([])\n",
    "for i in list2:\n",
    "    t2 = np.append(t2,cpd_matric[i][k])\n",
    "\n",
    "t3 = np.array([])\n",
    "for i in list3:\n",
    "    t3 = np.append(t3,cpd_matric[i][k])\n",
    "\n",
    "CPD['weather_'+str(k)+'_season_0'] = pd.DataFrame(t0)\n",
    "CPD['weather_'+str(k)+'_season_1'] = pd.DataFrame(t1)\n",
    "CPD['weather_'+str(k)+'_season_2'] = pd.DataFrame(t2)\n",
    "CPD['weather_'+str(k)+'_season_3'] = pd.DataFrame(t3)"
   ]
  },
  {
   "cell_type": "code",
   "execution_count": 12,
   "id": "fea86125",
   "metadata": {
    "ExecuteTime": {
     "end_time": "2024-04-07T08:05:39.920908Z",
     "start_time": "2024-04-07T08:05:39.906880Z"
    }
   },
   "outputs": [],
   "source": [
    "cpd = CPD.copy()"
   ]
  },
  {
   "cell_type": "code",
   "execution_count": 13,
   "id": "f5289a54",
   "metadata": {
    "ExecuteTime": {
     "end_time": "2024-04-07T08:05:41.721439Z",
     "start_time": "2024-04-07T08:05:39.921905Z"
    }
   },
   "outputs": [],
   "source": [
    "import matplotlib.pyplot as plt\n",
    "import seaborn as sns\n",
    "import plotly.graph_objs as go\n",
    "from plotly.subplots import make_subplots\n",
    "from matplotlib import colors\n",
    "from matplotlib.colors import ListedColormap, LinearSegmentedColormap"
   ]
  },
  {
   "cell_type": "code",
   "execution_count": 14,
   "id": "cfc642e7",
   "metadata": {
    "ExecuteTime": {
     "end_time": "2024-04-07T08:05:41.737399Z",
     "start_time": "2024-04-07T08:05:41.722438Z"
    }
   },
   "outputs": [
    {
     "data": {
      "text/plain": [
       "Index(['weather_0_season_0', 'weather_0_season_1', 'weather_0_season_2',\n",
       "       'weather_0_season_3', 'weather_1_season_0', 'weather_1_season_1',\n",
       "       'weather_1_season_2', 'weather_1_season_3', 'weather_2_season_0',\n",
       "       'weather_2_season_1', 'weather_2_season_2', 'weather_2_season_3',\n",
       "       'weather_3_season_0', 'weather_3_season_1', 'weather_3_season_2',\n",
       "       'weather_3_season_3', 'weather_4_season_0', 'weather_4_season_1',\n",
       "       'weather_4_season_2', 'weather_4_season_3'],\n",
       "      dtype='object')"
      ]
     },
     "execution_count": 14,
     "metadata": {},
     "output_type": "execute_result"
    }
   ],
   "source": [
    "cpd.columns"
   ]
  },
  {
   "cell_type": "code",
   "execution_count": 15,
   "id": "fe2594dd",
   "metadata": {
    "ExecuteTime": {
     "end_time": "2024-04-07T08:05:41.768344Z",
     "start_time": "2024-04-07T08:05:41.738398Z"
    }
   },
   "outputs": [],
   "source": [
    "k = 3\n",
    "data = pd.DataFrame()\n",
    "\n",
    "tem = pd.DataFrame()\n",
    "tem['CPD0'] = cpd[['weather_'+str(k)+'_season_0']]\n",
    "tem['Season'] = 'Autumn'\n",
    "data = pd.concat([data,tem],axis=0)\n",
    "\n",
    "tem = pd.DataFrame()\n",
    "tem['CPD0'] = cpd[['weather_'+str(k)+'_season_1']]\n",
    "tem['Season'] = 'Spring'\n",
    "data = pd.concat([data,tem],axis=0)\n",
    "\n",
    "tem = pd.DataFrame()\n",
    "tem['CPD0'] = cpd[['weather_'+str(k)+'_season_2']]\n",
    "tem['Season'] = 'Summer'\n",
    "data = pd.concat([data,tem],axis=0)\n",
    "\n",
    "tem = pd.DataFrame()\n",
    "tem['CPD0'] = cpd[['weather_'+str(k)+'_season_3']]\n",
    "tem['Season'] = 'Winter'\n",
    "data = pd.concat([data,tem],axis=0)"
   ]
  },
  {
   "cell_type": "code",
   "execution_count": 16,
   "id": "65063045",
   "metadata": {
    "ExecuteTime": {
     "end_time": "2024-04-07T08:05:42.264930Z",
     "start_time": "2024-04-07T08:05:41.770366Z"
    }
   },
   "outputs": [
    {
     "data": {
      "image/png": "[encoded data removed]",
      "text/plain": [
       "<Figure size 288x216 with 1 Axes>"
      ]
     },
     "metadata": {
      "needs_background": "light"
     },
     "output_type": "display_data"
    }
   ],
   "source": [
    "width = 0.4\n",
    "\n",
    "plt.figure(figsize=(4,3))\n",
    "purple_cmap = colors.LinearSegmentedColormap.from_list(\"Purple\", [\"purple\", \"white\"])\n",
    "\n",
    "plt.subplot(1, 1, 1)\n",
    "labels = data['Season'].unique()\n",
    "norm = colors.Normalize(vmin=0, vmax=len(labels))\n",
    "color_list = [colors.rgb2hex(purple_cmap(norm(i))) for i in range(len(labels))]\n",
    "custom_palette = sns.color_palette(color_list)\n",
    "sns.boxplot(x='CPD0', y='Season', data=data, width=width, palette=custom_palette)\n",
    "#plt.ylabel('Temperature',fontsize=i,fontproperties='Times New Roman')\n",
    "plt.ylabel('Season')\n",
    "plt.xlabel('Snowy probability')\n",
    "plt.title('CPD of daytime in snow')\n",
    "plt.tight_layout()\n",
    "plt.savefig('Fig/Snowy.jpg',dpi=500)"
   ]
  },
  {
   "cell_type": "code",
   "execution_count": null,
   "id": "55b833db",
   "metadata": {},
   "outputs": [],
   "source": []
  }
 ],
 "metadata": {
  "kernelspec": {
   "display_name": "Python 3 (ipykernel)",
   "language": "python",
   "name": "python3"
  },
  "language_info": {
   "codemirror_mode": {
    "name": "ipython",
    "version": 3
   },
   "file_extension": ".py",
   "mimetype": "text/x-python",
   "name": "python",
   "nbconvert_exporter": "python",
   "pygments_lexer": "ipython3",
   "version": "3.9.12"
  },
  "toc": {
   "base_numbering": 1,
   "nav_menu": {},
   "number_sections": true,
   "sideBar": true,
   "skip_h1_title": false,
   "title_cell": "Table of Contents",
   "title_sidebar": "Contents",
   "toc_cell": false,
   "toc_position": {},
   "toc_section_display": true,
   "toc_window_display": false
  }
 },
 "nbformat": 4,
 "nbformat_minor": 5
}
