{
 "cells": [
  {
   "cell_type": "code",
   "execution_count": 1,
   "id": "a78321a8",
   "metadata": {
    "ExecuteTime": {
     "end_time": "2024-04-07T01:27:03.137634Z",
     "start_time": "2024-04-07T01:27:02.420306Z"
    }
   },
   "outputs": [],
   "source": [
    "import pandas as pd\n",
    "import numpy as np"
   ]
  },
  {
   "cell_type": "code",
   "execution_count": 2,
   "id": "4fe28a59",
   "metadata": {
    "ExecuteTime": {
     "end_time": "2024-04-07T01:27:07.038803Z",
     "start_time": "2024-04-07T01:27:03.139629Z"
    }
   },
   "outputs": [
    {
     "data": {
      "text/html": [
       "<div>\n",
       "<style scoped>\n",
       "    .dataframe tbody tr th:only-of-type {\n",
       "        vertical-align: middle;\n",
       "    }\n",
       "\n",
       "    .dataframe tbody tr th {\n",
       "        vertical-align: top;\n",
       "    }\n",
       "\n",
       "    .dataframe thead th {\n",
       "        text-align: right;\n",
       "    }\n",
       "</style>\n",
       "<table border=\"1\" class=\"dataframe\">\n",
       "  <thead>\n",
       "    <tr style=\"text-align: right;\">\n",
       "      <th></th>\n",
       "      <th>crash</th>\n",
       "      <th>time of week</th>\n",
       "      <th>weather</th>\n",
       "      <th>volume</th>\n",
       "      <th>temperature</th>\n",
       "      <th>daytime</th>\n",
       "      <th>season</th>\n",
       "    </tr>\n",
       "  </thead>\n",
       "  <tbody>\n",
       "    <tr>\n",
       "      <th>0</th>\n",
       "      <td>1</td>\n",
       "      <td>1</td>\n",
       "      <td>cloudy</td>\n",
       "      <td>0</td>\n",
       "      <td>0</td>\n",
       "      <td>afternoon</td>\n",
       "      <td>winter</td>\n",
       "    </tr>\n",
       "    <tr>\n",
       "      <th>1</th>\n",
       "      <td>1</td>\n",
       "      <td>1</td>\n",
       "      <td>cloudy</td>\n",
       "      <td>0</td>\n",
       "      <td>0</td>\n",
       "      <td>afternoon</td>\n",
       "      <td>winter</td>\n",
       "    </tr>\n",
       "  </tbody>\n",
       "</table>\n",
       "</div>"
      ],
      "text/plain": [
       "   crash  time of week weather  volume  temperature    daytime  season\n",
       "0      1             1  cloudy       0            0  afternoon  winter\n",
       "1      1             1  cloudy       0            0  afternoon  winter"
      ]
     },
     "execution_count": 2,
     "metadata": {},
     "output_type": "execute_result"
    }
   ],
   "source": [
    "data = pd.read_excel('模型数据.xlsx')\n",
    "data.head(2)"
   ]
  },
  {
   "cell_type": "code",
   "execution_count": 3,
   "id": "ff83c317",
   "metadata": {
    "ExecuteTime": {
     "end_time": "2024-04-07T01:27:08.350626Z",
     "start_time": "2024-04-07T01:27:07.040770Z"
    }
   },
   "outputs": [],
   "source": [
    "from pgmpy.models import BayesianNetwork\n",
    "model = BayesianNetwork([('time of week', 'temperature'),('time of week','volume'),\n",
    "                         ('daytime','temperature'),('daytime','volume'),\n",
    "                         ('season','temperature'),('season','volume'),('season','weather'),\n",
    "                         ('weather','temperature'),('weather','volume'),('weather','crash'),\n",
    "                         ('temperature','crash'),\n",
    "                         ('volume','crash')])"
   ]
  },
  {
   "cell_type": "code",
   "execution_count": 4,
   "id": "0885d5a1",
   "metadata": {
    "ExecuteTime": {
     "end_time": "2024-04-07T01:27:08.818237Z",
     "start_time": "2024-04-07T01:27:08.352593Z"
    }
   },
   "outputs": [],
   "source": [
    "from pgmpy.estimators import BayesianEstimator, MaximumLikelihoodEstimator\n",
    "estimator = MaximumLikelihoodEstimator(model, data)"
   ]
  },
  {
   "cell_type": "code",
   "execution_count": 5,
   "id": "8b4de5e8",
   "metadata": {
    "ExecuteTime": {
     "end_time": "2024-04-07T01:27:08.879616Z",
     "start_time": "2024-04-07T01:27:08.819230Z"
    }
   },
   "outputs": [
    {
     "name": "stdout",
     "output_type": "stream",
     "text": [
      "['temperature', 'daytime', 'season', 'time of week', 'weather']\n",
      "[3 6 4 3 5]\n"
     ]
    },
    {
     "data": {
      "text/html": [
       "<div>\n",
       "<style scoped>\n",
       "    .dataframe tbody tr th:only-of-type {\n",
       "        vertical-align: middle;\n",
       "    }\n",
       "\n",
       "    .dataframe tbody tr th {\n",
       "        vertical-align: top;\n",
       "    }\n",
       "\n",
       "    .dataframe thead th {\n",
       "        text-align: right;\n",
       "    }\n",
       "</style>\n",
       "<table border=\"1\" class=\"dataframe\">\n",
       "  <thead>\n",
       "    <tr style=\"text-align: right;\">\n",
       "      <th></th>\n",
       "      <th>0</th>\n",
       "      <th>1</th>\n",
       "      <th>2</th>\n",
       "      <th>3</th>\n",
       "      <th>4</th>\n",
       "      <th>5</th>\n",
       "      <th>6</th>\n",
       "      <th>7</th>\n",
       "      <th>8</th>\n",
       "      <th>9</th>\n",
       "      <th>...</th>\n",
       "      <th>350</th>\n",
       "      <th>351</th>\n",
       "      <th>352</th>\n",
       "      <th>353</th>\n",
       "      <th>354</th>\n",
       "      <th>355</th>\n",
       "      <th>356</th>\n",
       "      <th>357</th>\n",
       "      <th>358</th>\n",
       "      <th>359</th>\n",
       "    </tr>\n",
       "  </thead>\n",
       "  <tbody>\n",
       "    <tr>\n",
       "      <th>0</th>\n",
       "      <td>0.062500</td>\n",
       "      <td>0.000000</td>\n",
       "      <td>0.206009</td>\n",
       "      <td>0.333333</td>\n",
       "      <td>0.000</td>\n",
       "      <td>0.080402</td>\n",
       "      <td>0.000000</td>\n",
       "      <td>0.0</td>\n",
       "      <td>0.333333</td>\n",
       "      <td>0.333333</td>\n",
       "      <td>...</td>\n",
       "      <td>0.9375</td>\n",
       "      <td>1.0</td>\n",
       "      <td>1.0</td>\n",
       "      <td>0.333333</td>\n",
       "      <td>1.0</td>\n",
       "      <td>1.0</td>\n",
       "      <td>1.0</td>\n",
       "      <td>0.333333</td>\n",
       "      <td>0.333333</td>\n",
       "      <td>1.0</td>\n",
       "    </tr>\n",
       "    <tr>\n",
       "      <th>1</th>\n",
       "      <td>0.695312</td>\n",
       "      <td>0.787692</td>\n",
       "      <td>0.656652</td>\n",
       "      <td>0.333333</td>\n",
       "      <td>0.675</td>\n",
       "      <td>0.638191</td>\n",
       "      <td>0.857143</td>\n",
       "      <td>1.0</td>\n",
       "      <td>0.333333</td>\n",
       "      <td>0.333333</td>\n",
       "      <td>...</td>\n",
       "      <td>0.0625</td>\n",
       "      <td>0.0</td>\n",
       "      <td>0.0</td>\n",
       "      <td>0.333333</td>\n",
       "      <td>0.0</td>\n",
       "      <td>0.0</td>\n",
       "      <td>0.0</td>\n",
       "      <td>0.333333</td>\n",
       "      <td>0.333333</td>\n",
       "      <td>0.0</td>\n",
       "    </tr>\n",
       "    <tr>\n",
       "      <th>2</th>\n",
       "      <td>0.242188</td>\n",
       "      <td>0.212308</td>\n",
       "      <td>0.137339</td>\n",
       "      <td>0.333333</td>\n",
       "      <td>0.325</td>\n",
       "      <td>0.281407</td>\n",
       "      <td>0.142857</td>\n",
       "      <td>0.0</td>\n",
       "      <td>0.333333</td>\n",
       "      <td>0.333333</td>\n",
       "      <td>...</td>\n",
       "      <td>0.0000</td>\n",
       "      <td>0.0</td>\n",
       "      <td>0.0</td>\n",
       "      <td>0.333333</td>\n",
       "      <td>0.0</td>\n",
       "      <td>0.0</td>\n",
       "      <td>0.0</td>\n",
       "      <td>0.333333</td>\n",
       "      <td>0.333333</td>\n",
       "      <td>0.0</td>\n",
       "    </tr>\n",
       "  </tbody>\n",
       "</table>\n",
       "<p>3 rows × 360 columns</p>\n",
       "</div>"
      ],
      "text/plain": [
       "        0         1         2         3      4         5         6    7    \\\n",
       "0  0.062500  0.000000  0.206009  0.333333  0.000  0.080402  0.000000  0.0   \n",
       "1  0.695312  0.787692  0.656652  0.333333  0.675  0.638191  0.857143  1.0   \n",
       "2  0.242188  0.212308  0.137339  0.333333  0.325  0.281407  0.142857  0.0   \n",
       "\n",
       "        8         9    ...     350  351  352       353  354  355  356  \\\n",
       "0  0.333333  0.333333  ...  0.9375  1.0  1.0  0.333333  1.0  1.0  1.0   \n",
       "1  0.333333  0.333333  ...  0.0625  0.0  0.0  0.333333  0.0  0.0  0.0   \n",
       "2  0.333333  0.333333  ...  0.0000  0.0  0.0  0.333333  0.0  0.0  0.0   \n",
       "\n",
       "        357       358  359  \n",
       "0  0.333333  0.333333  1.0  \n",
       "1  0.333333  0.333333  0.0  \n",
       "2  0.333333  0.333333  0.0  \n",
       "\n",
       "[3 rows x 360 columns]"
      ]
     },
     "execution_count": 5,
     "metadata": {},
     "output_type": "execute_result"
    }
   ],
   "source": [
    "cpd = estimator.estimate_cpd('temperature')\n",
    "print(cpd.variables)\n",
    "print(cpd.cardinality)\n",
    "pd.DataFrame(cpd.get_values())"
   ]
  },
  {
   "cell_type": "code",
   "execution_count": 6,
   "id": "2b5f5160",
   "metadata": {
    "ExecuteTime": {
     "end_time": "2024-04-07T01:27:08.895573Z",
     "start_time": "2024-04-07T01:27:08.880614Z"
    }
   },
   "outputs": [],
   "source": [
    "cpd_matric = pd.DataFrame(cpd.get_values())\n",
    "column_num = cpd_matric.shape[1]\n",
    "CPD = pd.DataFrame()"
   ]
  },
  {
   "cell_type": "markdown",
   "id": "1decbaba",
   "metadata": {},
   "source": [
    "# 低温"
   ]
  },
  {
   "cell_type": "code",
   "execution_count": 7,
   "id": "6d140e4b",
   "metadata": {
    "ExecuteTime": {
     "end_time": "2024-04-07T01:27:08.958021Z",
     "start_time": "2024-04-07T01:27:08.897570Z"
    }
   },
   "outputs": [],
   "source": [
    "list0 = np.array([])\n",
    "list1 = np.array([])\n",
    "list2 = np.array([])\n",
    "list3 = np.array([])\n",
    "list4 = np.array([])\n",
    "list5 = np.array([])\n",
    "\n",
    "large_unit = 0\n",
    "unit = int(column_num/cpd.cardinality[1])\n",
    "for i in range(cpd.cardinality[1]):\n",
    "    list0 = np.append(list0,np.linspace(int(i*large_unit + 0*unit),int(i*large_unit+ 1*unit)-1,int(unit))).astype(int)\n",
    "    list1 = np.append(list1,np.linspace(int(i*large_unit + 1*unit),int(i*large_unit+ 2*unit)-1,int(unit))).astype(int)\n",
    "    list2 = np.append(list2,np.linspace(int(i*large_unit + 2*unit),int(i*large_unit+ 3*unit)-1,int(unit))).astype(int)\n",
    "    list3 = np.append(list3,np.linspace(int(i*large_unit + 3*unit),int(i*large_unit+ 4*unit)-1,int(unit))).astype(int)\n",
    "    list4 = np.append(list4,np.linspace(int(i*large_unit + 4*unit),int(i*large_unit+ 5*unit)-1,int(unit))).astype(int)\n",
    "    list5 = np.append(list5,np.linspace(int(i*large_unit + 5*unit),int(i*large_unit+ 6*unit)-1,int(unit))).astype(int)\n",
    "\n",
    "t0 = np.array([])\n",
    "for i in list0:\n",
    "    t0 = np.append(t0,cpd_matric[i][0])\n",
    "\n",
    "t1 = np.array([])\n",
    "for i in list1:\n",
    "    t1 = np.append(t1,cpd_matric[i][0])\n",
    "\n",
    "t2 = np.array([])\n",
    "for i in list2:\n",
    "    t2 = np.append(t2,cpd_matric[i][0])\n",
    "\n",
    "t3 = np.array([])\n",
    "for i in list3:\n",
    "    t3 = np.append(t3,cpd_matric[i][0])\n",
    "\n",
    "t4 = np.array([])\n",
    "for i in list4:\n",
    "    t4 = np.append(t4,cpd_matric[i][0])\n",
    "\n",
    "t5 = np.array([])\n",
    "for i in list5:\n",
    "    t5 = np.append(t5,cpd_matric[i][0])\n",
    "\n",
    "CPD['temperature_0_daytime_0'] = pd.DataFrame(t0)\n",
    "CPD['temperature_0_daytime_1'] = pd.DataFrame(t1)\n",
    "CPD['temperature_0_daytime_2'] = pd.DataFrame(t2)\n",
    "CPD['temperature_0_daytime_3'] = pd.DataFrame(t3)\n",
    "CPD['temperature_0_daytime_4'] = pd.DataFrame(t4)\n",
    "CPD['temperature_0_daytime_5'] = pd.DataFrame(t5)"
   ]
  },
  {
   "cell_type": "code",
   "execution_count": 8,
   "id": "cd371d60",
   "metadata": {
    "ExecuteTime": {
     "end_time": "2024-04-07T01:27:08.989280Z",
     "start_time": "2024-04-07T01:27:08.959047Z"
    }
   },
   "outputs": [],
   "source": [
    "list0 = np.array([])\n",
    "list1 = np.array([])\n",
    "list2 = np.array([])\n",
    "list3 = np.array([])\n",
    "t0 = np.array([])\n",
    "t1 = np.array([])\n",
    "t2 = np.array([])\n",
    "t3 = np.array([])\n",
    "\n",
    "large_unit = int(column_num/(cpd.cardinality[1]))\n",
    "unit = int(column_num/(cpd.cardinality[1]*cpd.cardinality[2]))\n",
    "for i in range(cpd.cardinality[1]):\n",
    "    list0 = np.append(list0,np.linspace(int(i*large_unit + 0*unit),int(i*large_unit+ 1*unit)-1,int(unit))).astype(int)\n",
    "    list1 = np.append(list1,np.linspace(int(i*large_unit + 1*unit),int(i*large_unit+ 2*unit)-1,int(unit))).astype(int)\n",
    "    list2 = np.append(list2,np.linspace(int(i*large_unit + 2*unit),int(i*large_unit+ 3*unit)-1,int(unit))).astype(int)\n",
    "    list3 = np.append(list3,np.linspace(int(i*large_unit + 3*unit),int(i*large_unit+ 4*unit)-1,int(unit))).astype(int)\n",
    "\n",
    "for i in list0:\n",
    "    t0 = np.append(t0,cpd_matric[i][0])\n",
    "\n",
    "for i in list1:\n",
    "    t1 = np.append(t1,cpd_matric[i][0])\n",
    "\n",
    "for i in list2:\n",
    "    t2 = np.append(t2,cpd_matric[i][0])\n",
    "\n",
    "for i in list3:\n",
    "    t3 = np.append(t3,cpd_matric[i][0])\n",
    "\n",
    "CPD['temperature_0_season_0'] = pd.DataFrame(t0)\n",
    "CPD['temperature_0_season_1'] = pd.DataFrame(t1)\n",
    "CPD['temperature_0_season_2'] = pd.DataFrame(t2)\n",
    "CPD['temperature_0_season_3'] = pd.DataFrame(t3)"
   ]
  },
  {
   "cell_type": "code",
   "execution_count": 9,
   "id": "c3bead7e",
   "metadata": {
    "ExecuteTime": {
     "end_time": "2024-04-07T01:27:09.005172Z",
     "start_time": "2024-04-07T01:27:08.991183Z"
    }
   },
   "outputs": [],
   "source": [
    "list0 = np.array([])\n",
    "list1 = np.array([])\n",
    "list2 = np.array([])\n",
    "t0 = np.array([])\n",
    "t1 = np.array([])\n",
    "t2 = np.array([])\n",
    "\n",
    "large_unit = int(column_num/(cpd.cardinality[1]*cpd.cardinality[2]))\n",
    "unit = int(column_num/(cpd.cardinality[1]*cpd.cardinality[2]*cpd.cardinality[3]))\n",
    "for i in range(cpd.cardinality[1]):\n",
    "    list0 = np.append(list0,np.linspace(int(i*large_unit + 0*unit),int(i*large_unit+ 1*unit)-1,int(unit))).astype(int)\n",
    "    list1 = np.append(list1,np.linspace(int(i*large_unit + 1*unit),int(i*large_unit+ 2*unit)-1,int(unit))).astype(int)\n",
    "    list2 = np.append(list2,np.linspace(int(i*large_unit + 2*unit),int(i*large_unit+ 3*unit)-1,int(unit))).astype(int)\n",
    "\n",
    "for i in list0:\n",
    "    t0 = np.append(t0,cpd_matric[i][0])\n",
    "\n",
    "for i in list1:\n",
    "    t1 = np.append(t1,cpd_matric[i][0])\n",
    "\n",
    "for i in list2:\n",
    "    t2 = np.append(t2,cpd_matric[i][0])\n",
    "\n",
    "CPD['temperature_0_timeofweek_0'] = pd.DataFrame(t0)\n",
    "CPD['temperature_0_timeofweek_1'] = pd.DataFrame(t1)\n",
    "CPD['temperature_0_timeofweek_2'] = pd.DataFrame(t2)"
   ]
  },
  {
   "cell_type": "code",
   "execution_count": 10,
   "id": "3c0e595e",
   "metadata": {
    "ExecuteTime": {
     "end_time": "2024-04-07T01:27:09.035560Z",
     "start_time": "2024-04-07T01:27:09.008138Z"
    }
   },
   "outputs": [],
   "source": [
    "list0 = np.array([])\n",
    "list1 = np.array([])\n",
    "list2 = np.array([])\n",
    "list3 = np.array([])\n",
    "list4 = np.array([])\n",
    "t0 = np.array([])\n",
    "t1 = np.array([])\n",
    "t2 = np.array([])\n",
    "t3 = np.array([])\n",
    "t4 = np.array([])\n",
    "\n",
    "large_unit = int(column_num/(cpd.cardinality[1]*cpd.cardinality[2]*cpd.cardinality[3]))\n",
    "unit = int(column_num/(cpd.cardinality[1]*cpd.cardinality[2]*cpd.cardinality[3]*cpd.cardinality[4]))\n",
    "for i in range(cpd.cardinality[1]):\n",
    "    list0 = np.append(list0,np.linspace(int(i*large_unit + 0*unit),int(i*large_unit+ 1*unit)-1,int(unit))).astype(int)\n",
    "    list1 = np.append(list1,np.linspace(int(i*large_unit + 1*unit),int(i*large_unit+ 2*unit)-1,int(unit))).astype(int)\n",
    "    list2 = np.append(list2,np.linspace(int(i*large_unit + 2*unit),int(i*large_unit+ 3*unit)-1,int(unit))).astype(int)\n",
    "    list3 = np.append(list3,np.linspace(int(i*large_unit + 3*unit),int(i*large_unit+ 4*unit)-1,int(unit))).astype(int)\n",
    "    list4 = np.append(list3,np.linspace(int(i*large_unit + 4*unit),int(i*large_unit+ 5*unit)-1,int(unit))).astype(int)\n",
    "\n",
    "for i in list0:\n",
    "    t0 = np.append(t0,cpd_matric[i][0])\n",
    "\n",
    "for i in list1:\n",
    "    t1 = np.append(t1,cpd_matric[i][0])\n",
    "\n",
    "for i in list2:\n",
    "    t2 = np.append(t2,cpd_matric[i][0])\n",
    "\n",
    "for i in list3:\n",
    "    t3 = np.append(t3,cpd_matric[i][0])\n",
    "\n",
    "for i in list4:\n",
    "    t4 = np.append(t4,cpd_matric[i][0])\n",
    "\n",
    "CPD['temperature_0_weather_0'] = pd.DataFrame(t0)\n",
    "CPD['temperature_0_weather_1'] = pd.DataFrame(t1)\n",
    "CPD['temperature_0_weather_2'] = pd.DataFrame(t2)\n",
    "CPD['temperature_0_weather_3'] = pd.DataFrame(t3)\n",
    "CPD['temperature_0_weather_4'] = pd.DataFrame(t4)"
   ]
  },
  {
   "cell_type": "markdown",
   "id": "a5bd9568",
   "metadata": {},
   "source": [
    "# 高温"
   ]
  },
  {
   "cell_type": "code",
   "execution_count": 11,
   "id": "4fd291c4",
   "metadata": {
    "ExecuteTime": {
     "end_time": "2024-04-07T01:27:09.083397Z",
     "start_time": "2024-04-07T01:27:09.036371Z"
    }
   },
   "outputs": [],
   "source": [
    "list0 = np.array([])\n",
    "list1 = np.array([])\n",
    "list2 = np.array([])\n",
    "list3 = np.array([])\n",
    "list4 = np.array([])\n",
    "list5 = np.array([])\n",
    "large_unit = 0\n",
    "unit = int(column_num/cpd.cardinality[1])\n",
    "for i in range(cpd.cardinality[1]):\n",
    "    list0 = np.append(list0,np.linspace(int(i*large_unit + 0*unit),int(i*large_unit+ 1*unit)-1,int(unit))).astype(int)\n",
    "    list1 = np.append(list1,np.linspace(int(i*large_unit + 1*unit),int(i*large_unit+ 2*unit)-1,int(unit))).astype(int)\n",
    "    list2 = np.append(list2,np.linspace(int(i*large_unit + 2*unit),int(i*large_unit+ 3*unit)-1,int(unit))).astype(int)\n",
    "    list3 = np.append(list3,np.linspace(int(i*large_unit + 3*unit),int(i*large_unit+ 4*unit)-1,int(unit))).astype(int)\n",
    "    list4 = np.append(list4,np.linspace(int(i*large_unit + 4*unit),int(i*large_unit+ 5*unit)-1,int(unit))).astype(int)\n",
    "    list5 = np.append(list5,np.linspace(int(i*large_unit + 5*unit),int(i*large_unit+ 6*unit)-1,int(unit))).astype(int)\n",
    "\n",
    "t0 = np.array([])\n",
    "for i in list0:\n",
    "    t0 = np.append(t0,cpd_matric[i][2])\n",
    "\n",
    "t1 = np.array([])\n",
    "for i in list1:\n",
    "    t1 = np.append(t1,cpd_matric[i][2])\n",
    "\n",
    "t2 = np.array([])\n",
    "for i in list2:\n",
    "    t2 = np.append(t2,cpd_matric[i][2])\n",
    "\n",
    "t3 = np.array([])\n",
    "for i in list3:\n",
    "    t3 = np.append(t3,cpd_matric[i][2])\n",
    "\n",
    "t4 = np.array([])\n",
    "for i in list4:\n",
    "    t4 = np.append(t4,cpd_matric[i][2])\n",
    "\n",
    "t5 = np.array([])\n",
    "for i in list5:\n",
    "    t5 = np.append(t5,cpd_matric[i][2])\n",
    "\n",
    "CPD['temperature_2_daytime_0'] = pd.DataFrame(t0)\n",
    "CPD['temperature_2_daytime_1'] = pd.DataFrame(t1)\n",
    "CPD['temperature_2_daytime_2'] = pd.DataFrame(t2)\n",
    "CPD['temperature_2_daytime_3'] = pd.DataFrame(t3)\n",
    "CPD['temperature_2_daytime_4'] = pd.DataFrame(t4)\n",
    "CPD['temperature_2_daytime_5'] = pd.DataFrame(t5)"
   ]
  },
  {
   "cell_type": "code",
   "execution_count": 12,
   "id": "d76b3c95",
   "metadata": {
    "ExecuteTime": {
     "end_time": "2024-04-07T01:27:09.114235Z",
     "start_time": "2024-04-07T01:27:09.084141Z"
    }
   },
   "outputs": [],
   "source": [
    "list0 = np.array([])\n",
    "list1 = np.array([])\n",
    "list2 = np.array([])\n",
    "list3 = np.array([])\n",
    "t0 = np.array([])\n",
    "t1 = np.array([])\n",
    "t2 = np.array([])\n",
    "t3 = np.array([])\n",
    "\n",
    "large_unit = int(column_num/(cpd.cardinality[1]))\n",
    "unit = int(column_num/(cpd.cardinality[1]*cpd.cardinality[2]))\n",
    "for i in range(cpd.cardinality[1]):\n",
    "    list0 = np.append(list0,np.linspace(int(i*large_unit + 0*unit),int(i*large_unit+ 1*unit)-1,int(unit))).astype(int)\n",
    "    list1 = np.append(list1,np.linspace(int(i*large_unit + 1*unit),int(i*large_unit+ 2*unit)-1,int(unit))).astype(int)\n",
    "    list2 = np.append(list2,np.linspace(int(i*large_unit + 2*unit),int(i*large_unit+ 3*unit)-1,int(unit))).astype(int)\n",
    "    list3 = np.append(list3,np.linspace(int(i*large_unit + 3*unit),int(i*large_unit+ 4*unit)-1,int(unit))).astype(int)\n",
    "\n",
    "for i in list0:\n",
    "    t0 = np.append(t0,cpd_matric[i][2])\n",
    "\n",
    "for i in list1:\n",
    "    t1 = np.append(t1,cpd_matric[i][2])\n",
    "\n",
    "for i in list2:\n",
    "    t2 = np.append(t2,cpd_matric[i][2])\n",
    "\n",
    "for i in list3:\n",
    "    t3 = np.append(t3,cpd_matric[i][2])\n",
    "\n",
    "CPD['temperature_2_season_0'] = pd.DataFrame(t0)\n",
    "CPD['temperature_2_season_1'] = pd.DataFrame(t1)\n",
    "CPD['temperature_2_season_2'] = pd.DataFrame(t2)\n",
    "CPD['temperature_2_season_3'] = pd.DataFrame(t3)"
   ]
  },
  {
   "cell_type": "code",
   "execution_count": 13,
   "id": "224741a0",
   "metadata": {
    "ExecuteTime": {
     "end_time": "2024-04-07T01:27:09.130263Z",
     "start_time": "2024-04-07T01:27:09.115235Z"
    }
   },
   "outputs": [],
   "source": [
    "list0 = np.array([])\n",
    "list1 = np.array([])\n",
    "list2 = np.array([])\n",
    "t0 = np.array([])\n",
    "t1 = np.array([])\n",
    "t2 = np.array([])\n",
    "\n",
    "large_unit = int(column_num/(cpd.cardinality[1]*cpd.cardinality[2]))\n",
    "unit = int(column_num/(cpd.cardinality[1]*cpd.cardinality[2]*cpd.cardinality[3]))\n",
    "for i in range(cpd.cardinality[1]):\n",
    "    list0 = np.append(list0,np.linspace(int(i*large_unit + 0*unit),int(i*large_unit+ 1*unit)-1,int(unit))).astype(int)\n",
    "    list1 = np.append(list1,np.linspace(int(i*large_unit + 1*unit),int(i*large_unit+ 2*unit)-1,int(unit))).astype(int)\n",
    "    list2 = np.append(list2,np.linspace(int(i*large_unit + 2*unit),int(i*large_unit+ 3*unit)-1,int(unit))).astype(int)\n",
    "\n",
    "for i in list0:\n",
    "    t0 = np.append(t0,cpd_matric[i][2])\n",
    "\n",
    "for i in list1:\n",
    "    t1 = np.append(t1,cpd_matric[i][2])\n",
    "\n",
    "for i in list2:\n",
    "    t2 = np.append(t2,cpd_matric[i][2])\n",
    "\n",
    "CPD['temperature_2_timeofweek_0'] = pd.DataFrame(t0)\n",
    "CPD['temperature_2_timeofweek_1'] = pd.DataFrame(t1)\n",
    "CPD['temperature_2_timeofweek_2'] = pd.DataFrame(t2)"
   ]
  },
  {
   "cell_type": "code",
   "execution_count": 14,
   "id": "cd6e4f03",
   "metadata": {
    "ExecuteTime": {
     "end_time": "2024-04-07T01:27:09.146221Z",
     "start_time": "2024-04-07T01:27:09.132258Z"
    }
   },
   "outputs": [],
   "source": [
    "list0 = np.array([])\n",
    "list1 = np.array([])\n",
    "list2 = np.array([])\n",
    "list3 = np.array([])\n",
    "list4 = np.array([])\n",
    "t0 = np.array([])\n",
    "t1 = np.array([])\n",
    "t2 = np.array([])\n",
    "t3 = np.array([])\n",
    "t4 = np.array([])\n",
    "\n",
    "large_unit = int(column_num/(cpd.cardinality[1]*cpd.cardinality[2]*cpd.cardinality[3]))\n",
    "unit = int(column_num/(cpd.cardinality[1]*cpd.cardinality[2]*cpd.cardinality[3]*cpd.cardinality[4]))\n",
    "for i in range(cpd.cardinality[1]):\n",
    "    list0 = np.append(list0,np.linspace(int(i*large_unit + 0*unit),int(i*large_unit+ 1*unit)-1,int(unit))).astype(int)\n",
    "    list1 = np.append(list1,np.linspace(int(i*large_unit + 1*unit),int(i*large_unit+ 2*unit)-1,int(unit))).astype(int)\n",
    "    list2 = np.append(list2,np.linspace(int(i*large_unit + 2*unit),int(i*large_unit+ 3*unit)-1,int(unit))).astype(int)\n",
    "    list3 = np.append(list3,np.linspace(int(i*large_unit + 3*unit),int(i*large_unit+ 4*unit)-1,int(unit))).astype(int)\n",
    "    list4 = np.append(list3,np.linspace(int(i*large_unit + 4*unit),int(i*large_unit+ 5*unit)-1,int(unit))).astype(int)\n",
    "\n",
    "for i in list0:\n",
    "    t0 = np.append(t0,cpd_matric[i][2])\n",
    "\n",
    "for i in list1:\n",
    "    t1 = np.append(t1,cpd_matric[i][2])\n",
    "\n",
    "for i in list2:\n",
    "    t2 = np.append(t2,cpd_matric[i][2])\n",
    "\n",
    "for i in list3:\n",
    "    t3 = np.append(t3,cpd_matric[i][2])\n",
    "\n",
    "for i in list4:\n",
    "    t4 = np.append(t4,cpd_matric[i][2])\n",
    "\n",
    "CPD['temperature_2_weather_0'] = pd.DataFrame(t0)\n",
    "CPD['temperature_2_weather_1'] = pd.DataFrame(t1)\n",
    "CPD['temperature_2_weather_2'] = pd.DataFrame(t2)\n",
    "CPD['temperature_2_weather_3'] = pd.DataFrame(t3)\n",
    "CPD['temperature_2_weather_4'] = pd.DataFrame(t4)"
   ]
  },
  {
   "cell_type": "code",
   "execution_count": 15,
   "id": "7e9c50f3",
   "metadata": {
    "ExecuteTime": {
     "end_time": "2024-04-07T01:27:09.161414Z",
     "start_time": "2024-04-07T01:27:09.147218Z"
    }
   },
   "outputs": [
    {
     "data": {
      "text/plain": [
       "Index(['temperature_0_daytime_0', 'temperature_0_daytime_1',\n",
       "       'temperature_0_daytime_2', 'temperature_0_daytime_3',\n",
       "       'temperature_0_daytime_4', 'temperature_0_daytime_5',\n",
       "       'temperature_0_season_0', 'temperature_0_season_1',\n",
       "       'temperature_0_season_2', 'temperature_0_season_3',\n",
       "       'temperature_0_timeofweek_0', 'temperature_0_timeofweek_1',\n",
       "       'temperature_0_timeofweek_2', 'temperature_0_weather_0',\n",
       "       'temperature_0_weather_1', 'temperature_0_weather_2',\n",
       "       'temperature_0_weather_3', 'temperature_0_weather_4',\n",
       "       'temperature_2_daytime_0', 'temperature_2_daytime_1',\n",
       "       'temperature_2_daytime_2', 'temperature_2_daytime_3',\n",
       "       'temperature_2_daytime_4', 'temperature_2_daytime_5',\n",
       "       'temperature_2_season_0', 'temperature_2_season_1',\n",
       "       'temperature_2_season_2', 'temperature_2_season_3',\n",
       "       'temperature_2_timeofweek_0', 'temperature_2_timeofweek_1',\n",
       "       'temperature_2_timeofweek_2', 'temperature_2_weather_0',\n",
       "       'temperature_2_weather_1', 'temperature_2_weather_2',\n",
       "       'temperature_2_weather_3', 'temperature_2_weather_4'],\n",
       "      dtype='object')"
      ]
     },
     "execution_count": 15,
     "metadata": {},
     "output_type": "execute_result"
    }
   ],
   "source": [
    "CPD.columns"
   ]
  },
  {
   "cell_type": "markdown",
   "id": "0a4542a7",
   "metadata": {},
   "source": [
    "# 出图"
   ]
  },
  {
   "cell_type": "code",
   "execution_count": 16,
   "id": "fbf62a15",
   "metadata": {
    "ExecuteTime": {
     "end_time": "2024-04-07T01:27:09.176655Z",
     "start_time": "2024-04-07T01:27:09.162416Z"
    }
   },
   "outputs": [],
   "source": [
    "cpd = CPD.copy()"
   ]
  },
  {
   "cell_type": "code",
   "execution_count": 17,
   "id": "3c774a1b",
   "metadata": {
    "ExecuteTime": {
     "end_time": "2024-04-07T01:27:09.766329Z",
     "start_time": "2024-04-07T01:27:09.177675Z"
    }
   },
   "outputs": [],
   "source": [
    "import matplotlib.pyplot as plt\n",
    "import seaborn as sns\n",
    "import plotly.graph_objs as go\n",
    "from plotly.subplots import make_subplots\n",
    "from matplotlib import colors\n",
    "from matplotlib.colors import ListedColormap, LinearSegmentedColormap"
   ]
  },
  {
   "cell_type": "code",
   "execution_count": 18,
   "id": "bde83f17",
   "metadata": {
    "ExecuteTime": {
     "end_time": "2024-04-07T01:27:09.828734Z",
     "start_time": "2024-04-07T01:27:09.767298Z"
    },
    "code_folding": []
   },
   "outputs": [],
   "source": [
    "#\n",
    "data = pd.DataFrame()\n",
    "\n",
    "tem = pd.DataFrame()\n",
    "tem['CPD0'] = cpd[['temperature_0_daytime_0']]\n",
    "tem['Daytime'] = 'Afternoon'\n",
    "data = pd.concat([data,tem],axis=0)\n",
    "\n",
    "tem = pd.DataFrame()\n",
    "tem['CPD0'] = cpd[['temperature_0_daytime_1']]\n",
    "tem['Daytime'] = 'Dawn'\n",
    "data = pd.concat([data,tem],axis=0)\n",
    "\n",
    "tem = pd.DataFrame()\n",
    "tem['CPD0'] = cpd[['temperature_0_daytime_2']]\n",
    "tem['Daytime'] = 'Evening'\n",
    "data = pd.concat([data,tem],axis=0)\n",
    "\n",
    "tem = pd.DataFrame()\n",
    "tem['CPD0'] = cpd[['temperature_0_daytime_3']]\n",
    "tem['Daytime'] = 'Morning'\n",
    "data = pd.concat([data,tem],axis=0)\n",
    "\n",
    "tem = pd.DataFrame()\n",
    "tem['CPD0'] = cpd[['temperature_0_daytime_4']]\n",
    "tem['Daytime'] = 'Noon'\n",
    "data = pd.concat([data,tem],axis=0)\n",
    "\n",
    "tem = pd.DataFrame()\n",
    "tem['CPD1'] = cpd[['temperature_0_season_0']]\n",
    "tem['Season'] = 'Autumn'\n",
    "data = pd.concat([data,tem],axis=0)\n",
    "\n",
    "tem = pd.DataFrame()\n",
    "tem['CPD1'] = cpd[['temperature_0_season_1']]\n",
    "tem['Season'] = 'Spring'\n",
    "data = pd.concat([data,tem],axis=0)\n",
    "\n",
    "tem = pd.DataFrame()\n",
    "tem['CPD1'] = cpd[['temperature_0_season_2']]\n",
    "tem['Season'] = 'Summer'\n",
    "data = pd.concat([data,tem],axis=0)\n",
    "\n",
    "tem = pd.DataFrame()\n",
    "tem['CPD1'] = cpd[['temperature_0_season_3']]\n",
    "tem['Season'] = 'Winter'\n",
    "data = pd.concat([data,tem],axis=0)\n",
    "\n",
    "tem = pd.DataFrame()\n",
    "tem['CPD2'] = cpd[['temperature_0_timeofweek_0']]\n",
    "tem['Timeofweek'] = 'Weekday'\n",
    "data = pd.concat([data,tem],axis=0)\n",
    "\n",
    "tem = pd.DataFrame()\n",
    "tem['CPD2'] = cpd[['temperature_0_timeofweek_1']]\n",
    "tem['Timeofweek'] = 'Weekend'\n",
    "data = pd.concat([data,tem],axis=0)\n",
    "\n",
    "tem = pd.DataFrame()\n",
    "tem['CPD2'] = cpd[['temperature_0_timeofweek_2']]\n",
    "tem['Timeofweek'] = 'Holiday'\n",
    "data = pd.concat([data,tem],axis=0)\n",
    "\n",
    "tem = pd.DataFrame()\n",
    "tem['CPD3'] = cpd[['temperature_0_weather_0']]\n",
    "tem['Weather'] = 'Cloudy'\n",
    "data = pd.concat([data,tem],axis=0)\n",
    "\n",
    "tem = pd.DataFrame()\n",
    "tem['CPD3'] = cpd[['temperature_0_weather_1']]\n",
    "tem['Weather'] = 'Foggy'\n",
    "data = pd.concat([data,tem],axis=0)\n",
    "\n",
    "tem = pd.DataFrame()\n",
    "tem['CPD3'] = cpd[['temperature_0_weather_2']]\n",
    "tem['Weather'] = 'Rainy'\n",
    "data = pd.concat([data,tem],axis=0)\n",
    "\n",
    "tem = pd.DataFrame()\n",
    "tem['CPD3'] = cpd[['temperature_0_weather_3']]\n",
    "tem['Weather'] = 'Snowy'\n",
    "data = pd.concat([data,tem],axis=0)\n",
    "\n",
    "tem = pd.DataFrame()\n",
    "tem['CPD3'] = cpd[['temperature_0_weather_4']]\n",
    "tem['Weather'] = 'Sunny'\n",
    "data = pd.concat([data,tem],axis=0)"
   ]
  },
  {
   "cell_type": "code",
   "execution_count": 19,
   "id": "0e3dc11c",
   "metadata": {
    "ExecuteTime": {
     "end_time": "2024-04-07T01:27:11.070962Z",
     "start_time": "2024-04-07T01:27:09.829703Z"
    }
   },
   "outputs": [
    {
     "data": {
      "image/png": "[encoded data removed]",
      "text/plain": [
       "<Figure size 1152x216 with 4 Axes>"
      ]
     },
     "metadata": {
      "needs_background": "light"
     },
     "output_type": "display_data"
    }
   ],
   "source": [
    "width = 0.4\n",
    "\n",
    "plt.figure(figsize=(16,3))\n",
    "purple_cmap = colors.LinearSegmentedColormap.from_list(\"Purple\", [\"purple\", \"white\"])\n",
    "\n",
    "plt.subplot(1, 4, 1)\n",
    "labels = data['Daytime'].unique()\n",
    "norm = colors.Normalize(vmin=0, vmax=len(labels))\n",
    "color_list = [colors.rgb2hex(purple_cmap(norm(i))) for i in range(len(labels))]\n",
    "custom_palette = sns.color_palette(color_list)\n",
    "sns.boxplot(x='CPD0', y='Daytime', data=data, width=width, palette=custom_palette)\n",
    "#plt.ylabel('Temperature',fontsize=i,fontproperties='Times New Roman')\n",
    "plt.ylabel('Daytime')\n",
    "plt.xlabel('Low temperature probability')\n",
    "plt.title('CPD of daytime in low temperature cases')\n",
    "plt.tight_layout()\n",
    "\n",
    "plt.subplot(1, 4, 2)\n",
    "labels = data['Season'].unique()\n",
    "norm = colors.Normalize(vmin=0, vmax=len(labels))\n",
    "color_list = [colors.rgb2hex(purple_cmap(norm(i))) for i in range(len(labels))]\n",
    "custom_palette = sns.color_palette(color_list)\n",
    "sns.boxplot(x='CPD1', y='Season', data=data, width=width, palette=custom_palette)\n",
    "plt.ylabel('Season')\n",
    "plt.xlabel('Low temperature probability')\n",
    "plt.title('CPD of season in low temperature cases')\n",
    "plt.tight_layout()\n",
    "\n",
    "plt.subplot(1, 4, 3)\n",
    "labels = data['Timeofweek'].unique()\n",
    "norm = colors.Normalize(vmin=0, vmax=len(labels))\n",
    "color_list = [colors.rgb2hex(purple_cmap(norm(i))) for i in range(len(labels))]\n",
    "custom_palette = sns.color_palette(color_list)\n",
    "sns.boxplot(x='CPD2', y='Timeofweek', data=data, width=width, palette=custom_palette)\n",
    "plt.ylabel('Time of week')\n",
    "plt.xlabel('Low temperature probability')\n",
    "plt.title('CPD of time of week in low temperature cases')\n",
    "plt.tight_layout()\n",
    "\n",
    "plt.subplot(1, 4, 4)\n",
    "labels = data['Weather'].unique()\n",
    "norm = colors.Normalize(vmin=0, vmax=len(labels))\n",
    "color_list = [colors.rgb2hex(purple_cmap(norm(i))) for i in range(len(labels))]\n",
    "custom_palette = sns.color_palette(color_list)\n",
    "sns.boxplot(x='CPD3', y='Weather', data=data, width=width, palette=custom_palette)\n",
    "plt.ylabel('Weather')\n",
    "plt.xlabel('Low temperature probability')\n",
    "plt.title('CPD of weather in low temperature cases')\n",
    "plt.tight_layout()\n",
    "#plt.text(1.95,0.4,'Crash',fontsize=10,weight='bold')\n",
    "plt.savefig('Fig/Low temperature.jpg',dpi=500)\n",
    "plt.show()"
   ]
  },
  {
   "cell_type": "code",
   "execution_count": 20,
   "id": "c4f1ec3a",
   "metadata": {
    "ExecuteTime": {
     "end_time": "2024-04-07T01:27:11.149280Z",
     "start_time": "2024-04-07T01:27:11.071960Z"
    }
   },
   "outputs": [],
   "source": [
    "#\n",
    "data = pd.DataFrame()\n",
    "\n",
    "tem = pd.DataFrame()\n",
    "tem['CPD0'] = cpd[['temperature_2_daytime_0']]\n",
    "tem['Daytime'] = 'Afternoon'\n",
    "data = pd.concat([data,tem],axis=0)\n",
    "\n",
    "tem = pd.DataFrame()\n",
    "tem['CPD0'] = cpd[['temperature_2_daytime_1']]\n",
    "tem['Daytime'] = 'Dawn'\n",
    "data = pd.concat([data,tem],axis=0)\n",
    "\n",
    "tem = pd.DataFrame()\n",
    "tem['CPD0'] = cpd[['temperature_2_daytime_2']]\n",
    "tem['Daytime'] = 'Evening'\n",
    "data = pd.concat([data,tem],axis=0)\n",
    "\n",
    "tem = pd.DataFrame()\n",
    "tem['CPD0'] = cpd[['temperature_2_daytime_3']]\n",
    "tem['Daytime'] = 'Morning'\n",
    "data = pd.concat([data,tem],axis=0)\n",
    "\n",
    "tem = pd.DataFrame()\n",
    "tem['CPD0'] = cpd[['temperature_2_daytime_4']]\n",
    "tem['Daytime'] = 'Noon'\n",
    "data = pd.concat([data,tem],axis=0)\n",
    "\n",
    "tem = pd.DataFrame()\n",
    "tem['CPD1'] = cpd[['temperature_2_season_0']]\n",
    "tem['Season'] = 'Autumn'\n",
    "data = pd.concat([data,tem],axis=0)\n",
    "\n",
    "tem = pd.DataFrame()\n",
    "tem['CPD1'] = cpd[['temperature_2_season_1']]\n",
    "tem['Season'] = 'Spring'\n",
    "data = pd.concat([data,tem],axis=0)\n",
    "\n",
    "tem = pd.DataFrame()\n",
    "tem['CPD1'] = cpd[['temperature_2_season_2']]\n",
    "tem['Season'] = 'Summer'\n",
    "data = pd.concat([data,tem],axis=0)\n",
    "\n",
    "tem = pd.DataFrame()\n",
    "tem['CPD1'] = cpd[['temperature_2_season_3']]\n",
    "tem['Season'] = 'Winter'\n",
    "data = pd.concat([data,tem],axis=0)\n",
    "\n",
    "tem = pd.DataFrame()\n",
    "tem['CPD2'] = cpd[['temperature_2_timeofweek_0']]\n",
    "tem['Timeofweek'] = 'Weekday'\n",
    "data = pd.concat([data,tem],axis=0)\n",
    "\n",
    "tem = pd.DataFrame()\n",
    "tem['CPD2'] = cpd[['temperature_2_timeofweek_1']]\n",
    "tem['Timeofweek'] = 'Weekend'\n",
    "data = pd.concat([data,tem],axis=0)\n",
    "\n",
    "tem = pd.DataFrame()\n",
    "tem['CPD2'] = cpd[['temperature_2_timeofweek_2']]\n",
    "tem['Timeofweek'] = 'Holiday'\n",
    "data = pd.concat([data,tem],axis=0)\n",
    "\n",
    "tem = pd.DataFrame()\n",
    "tem['CPD3'] = cpd[['temperature_2_weather_0']]\n",
    "tem['Weather'] = 'Cloudy'\n",
    "data = pd.concat([data,tem],axis=0)\n",
    "\n",
    "tem = pd.DataFrame()\n",
    "tem['CPD3'] = cpd[['temperature_2_weather_1']]\n",
    "tem['Weather'] = 'Foggy'\n",
    "data = pd.concat([data,tem],axis=0)\n",
    "\n",
    "tem = pd.DataFrame()\n",
    "tem['CPD3'] = cpd[['temperature_2_weather_2']]\n",
    "tem['Weather'] = 'Rainy'\n",
    "data = pd.concat([data,tem],axis=0)\n",
    "\n",
    "tem = pd.DataFrame()\n",
    "tem['CPD3'] = cpd[['temperature_2_weather_3']]\n",
    "tem['Weather'] = 'Snowy'\n",
    "data = pd.concat([data,tem],axis=0)\n",
    "\n",
    "tem = pd.DataFrame()\n",
    "tem['CPD3'] = cpd[['temperature_2_weather_4']]\n",
    "tem['Weather'] = 'Sunny'\n",
    "data = pd.concat([data,tem],axis=0)"
   ]
  },
  {
   "cell_type": "code",
   "execution_count": 21,
   "id": "b1243a80",
   "metadata": {
    "ExecuteTime": {
     "end_time": "2024-04-07T01:27:12.346598Z",
     "start_time": "2024-04-07T01:27:11.153260Z"
    }
   },
   "outputs": [
    {
     "data": {
      "image/png": "[encoded data removed]",
      "text/plain": [
       "<Figure size 1152x216 with 4 Axes>"
      ]
     },
     "metadata": {
      "needs_background": "light"
     },
     "output_type": "display_data"
    }
   ],
   "source": [
    "width = 0.4\n",
    "\n",
    "plt.figure(figsize=(16,3))\n",
    "purple_cmap = colors.LinearSegmentedColormap.from_list(\"Purple\", [\"purple\", \"white\"])\n",
    "\n",
    "plt.subplot(1, 4, 1)\n",
    "labels = data['Daytime'].unique()\n",
    "norm = colors.Normalize(vmin=0, vmax=len(labels))\n",
    "color_list = [colors.rgb2hex(purple_cmap(norm(i))) for i in range(len(labels))]\n",
    "custom_palette = sns.color_palette(color_list)\n",
    "sns.boxplot(x='CPD0', y='Daytime', data=data, width=width, palette=custom_palette)\n",
    "#plt.ylabel('Temperature',fontsize=i,fontproperties='Times New Roman')\n",
    "plt.ylabel('Daytime')\n",
    "plt.xlabel('High temperature probability')\n",
    "plt.title('CPD of daytime in high temperature cases')\n",
    "plt.tight_layout()\n",
    "\n",
    "plt.subplot(1, 4, 2)\n",
    "labels = data['Season'].unique()\n",
    "norm = colors.Normalize(vmin=0, vmax=len(labels))\n",
    "color_list = [colors.rgb2hex(purple_cmap(norm(i))) for i in range(len(labels))]\n",
    "custom_palette = sns.color_palette(color_list)\n",
    "sns.boxplot(x='CPD1', y='Season', data=data, width=width, palette=custom_palette)\n",
    "plt.ylabel('Season')\n",
    "plt.xlabel('High temperature probability')\n",
    "plt.title('CPD of season in high temperature cases')\n",
    "plt.tight_layout()\n",
    "\n",
    "plt.subplot(1, 4, 3)\n",
    "labels = data['Timeofweek'].unique()\n",
    "norm = colors.Normalize(vmin=0, vmax=len(labels))\n",
    "color_list = [colors.rgb2hex(purple_cmap(norm(i))) for i in range(len(labels))]\n",
    "custom_palette = sns.color_palette(color_list)\n",
    "sns.boxplot(x='CPD2', y='Timeofweek', data=data, width=width, palette=custom_palette)\n",
    "plt.ylabel('Time of week')\n",
    "plt.xlabel('High temperature probability')\n",
    "plt.title('CPD of time of week in high temperature cases')\n",
    "plt.tight_layout()\n",
    "\n",
    "plt.subplot(1, 4, 4)\n",
    "labels = data['Weather'].unique()\n",
    "norm = colors.Normalize(vmin=0, vmax=len(labels))\n",
    "color_list = [colors.rgb2hex(purple_cmap(norm(i))) for i in range(len(labels))]\n",
    "custom_palette = sns.color_palette(color_list)\n",
    "sns.boxplot(x='CPD3', y='Weather', data=data, width=width, palette=custom_palette)\n",
    "plt.ylabel('Weather')\n",
    "plt.xlabel('High temperature probability')\n",
    "plt.title('CPD of weather in high temperature cases')\n",
    "plt.tight_layout()\n",
    "#plt.text(1.95,0.4,'Crash',fontsize=10,weight='bold')\n",
    "plt.savefig('Fig/High temperature.jpg',dpi=500)\n",
    "plt.show()"
   ]
  },
  {
   "cell_type": "code",
   "execution_count": null,
   "id": "dcf06bf5",
   "metadata": {},
   "outputs": [],
   "source": []
  }
 ],
 "metadata": {
  "kernelspec": {
   "display_name": "Python 3 (ipykernel)",
   "language": "python",
   "name": "python3"
  },
  "language_info": {
   "codemirror_mode": {
    "name": "ipython",
    "version": 3
   },
   "file_extension": ".py",
   "mimetype": "text/x-python",
   "name": "python",
   "nbconvert_exporter": "python",
   "pygments_lexer": "ipython3",
   "version": "3.9.12"
  },
  "toc": {
   "base_numbering": 1,
   "nav_menu": {},
   "number_sections": true,
   "sideBar": true,
   "skip_h1_title": false,
   "title_cell": "Table of Contents",
   "title_sidebar": "Contents",
   "toc_cell": false,
   "toc_position": {},
   "toc_section_display": true,
   "toc_window_display": false
  }
 },
 "nbformat": 4,
 "nbformat_minor": 5
}
